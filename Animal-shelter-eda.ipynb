{
 "cells": [
  {
   "attachments": {},
   "cell_type": "markdown",
   "metadata": {},
   "source": [
    "# Data Analysis with Animal Shelter Data\n",
    "\n",
    "\n",
    "![image.png](https://imgstaticcontent.lbb.in/lbbnew/wp-content/uploads/sites/7/2016/07/010816_YODA-AnimalShelter.jpg?fm=webp&w=750&h=500&dpr=1)\n",
    "\n",
    "\n",
    "\n",
    "Hello, in this project we will be analyzing the Austin Animal Shelter dataset, which I got from  [Kaggle](https://www.kaggle.com/jackdaoud/animal-shelter-analytics), we will be using python's pandas & numpy libraries for analysing the data and for visualizing using matplotlib & seaborn, all four of these libraries are very powerful tools for analysis.\n",
    "\n",
    "We will try to extract insights about the animal shelter like what are the reasons these animals are arriving at the shelter, weather they are getting adopted or not, how many types of animals are in here and soo much more.\n",
    "\n"
   ]
  },
  {
   "cell_type": "markdown",
   "metadata": {},
   "source": [
    "## Downloading the Dataset\n"
   ]
  },
  {
   "cell_type": "code",
   "execution_count": 1,
   "metadata": {},
   "outputs": [],
   "source": [
    "!pip install opendatasets --upgrade --quiet"
   ]
  },
  {
   "cell_type": "markdown",
   "metadata": {},
   "source": [
    "Let's begin by downloading the data, and listing the files within the dataset."
   ]
  },
  {
   "cell_type": "code",
   "execution_count": 2,
   "metadata": {},
   "outputs": [],
   "source": [
    "\n",
    "dataset_url = 'https://www.kaggle.com/jackdaoud/animal-shelter-analytics' "
   ]
  },
  {
   "cell_type": "code",
   "execution_count": 3,
   "metadata": {
    "scrolled": true
   },
   "outputs": [
    {
     "name": "stdout",
     "output_type": "stream",
     "text": [
      "Please provide your Kaggle credentials to download this dataset. Learn more: http://bit.ly/kaggle-creds\n",
      "Your Kaggle username: rahul010101\n",
      "Your Kaggle Key: ········\n"
     ]
    },
    {
     "name": "stderr",
     "output_type": "stream",
     "text": [
      " 13%|██████████                                                                   | 1.00M/7.67M [00:00<00:01, 6.23MB/s]"
     ]
    },
    {
     "name": "stdout",
     "output_type": "stream",
     "text": [
      "Downloading animal-shelter-analytics.zip to .\\animal-shelter-analytics\n"
     ]
    },
    {
     "name": "stderr",
     "output_type": "stream",
     "text": [
      "100%|█████████████████████████████████████████████████████████████████████████████| 7.67M/7.67M [00:02<00:00, 2.68MB/s]\n"
     ]
    },
    {
     "name": "stdout",
     "output_type": "stream",
     "text": [
      "\n"
     ]
    }
   ],
   "source": [
    "import opendatasets as od\n",
    "od.download(dataset_url)"
   ]
  },
  {
   "cell_type": "markdown",
   "metadata": {},
   "source": [
    "The dataset has been downloaded and extracted."
   ]
  },
  {
   "cell_type": "code",
   "execution_count": 4,
   "metadata": {},
   "outputs": [],
   "source": [
    "# Change the directory to where the files are\n",
    "data_dir = './animal-shelter-analytics'"
   ]
  },
  {
   "cell_type": "code",
   "execution_count": 5,
   "metadata": {},
   "outputs": [
    {
     "data": {
      "text/plain": [
       "['Austin_Animal_Center_Intakes.csv',\n",
       " 'Austin_Animal_Center_Outcomes.csv',\n",
       " 'Austin_Animal_Center_Stray_Map.csv']"
      ]
     },
     "execution_count": 5,
     "metadata": {},
     "output_type": "execute_result"
    }
   ],
   "source": [
    "import os\n",
    "os.listdir(data_dir)"
   ]
  },
  {
   "cell_type": "markdown",
   "metadata": {},
   "source": [
    "Let us save and upload our work to  before continuing."
   ]
  },
  {
   "cell_type": "code",
   "execution_count": 6,
   "metadata": {},
   "outputs": [],
   "source": [
    "project_name = \"zerotopandas-course-project-animal-shelter-eda\""
   ]
  },
  {
   "cell_type": "markdown",
   "metadata": {},
   "source": [
    "## Data Preparation and Cleaning\n",
    "\n",
    "- Let's clean the dataset by exploring the it.\n",
    "\n"
   ]
  },
  {
   "cell_type": "code",
   "execution_count": 10,
   "metadata": {},
   "outputs": [],
   "source": [
    "#loading the pandas and numpy libraries\n",
    "\n",
    "import pandas as pd\n",
    "import numpy as np"
   ]
  },
  {
   "cell_type": "code",
   "execution_count": 11,
   "metadata": {},
   "outputs": [],
   "source": [
    "animals_intakes_df = pd.read_csv('./animal-shelter-analytics/Austin_Animal_Center_Intakes.csv')\n",
    "animals_outcomes_df = pd.read_csv('./animal-shelter-analytics/Austin_Animal_Center_Outcomes.csv')\n",
    "animals_stray_map_df = pd.read_csv('./animal-shelter-analytics/Austin_Animal_Center_Stray_Map.csv')"
   ]
  },
  {
   "cell_type": "markdown",
   "metadata": {},
   "source": [
    "> - **We will explore each dataset one by one**"
   ]
  },
  {
   "cell_type": "code",
   "execution_count": 12,
   "metadata": {
    "scrolled": true
   },
   "outputs": [
    {
     "data": {
      "text/html": [
       "<div>\n",
       "<style scoped>\n",
       "    .dataframe tbody tr th:only-of-type {\n",
       "        vertical-align: middle;\n",
       "    }\n",
       "\n",
       "    .dataframe tbody tr th {\n",
       "        vertical-align: top;\n",
       "    }\n",
       "\n",
       "    .dataframe thead th {\n",
       "        text-align: right;\n",
       "    }\n",
       "</style>\n",
       "<table border=\"1\" class=\"dataframe\">\n",
       "  <thead>\n",
       "    <tr style=\"text-align: right;\">\n",
       "      <th></th>\n",
       "      <th>Animal ID</th>\n",
       "      <th>Name</th>\n",
       "      <th>DateTime</th>\n",
       "      <th>MonthYear</th>\n",
       "      <th>Found Location</th>\n",
       "      <th>Intake Type</th>\n",
       "      <th>Intake Condition</th>\n",
       "      <th>Animal Type</th>\n",
       "      <th>Sex upon Intake</th>\n",
       "      <th>Age upon Intake</th>\n",
       "      <th>Breed</th>\n",
       "      <th>Color</th>\n",
       "    </tr>\n",
       "  </thead>\n",
       "  <tbody>\n",
       "    <tr>\n",
       "      <th>0</th>\n",
       "      <td>A786884</td>\n",
       "      <td>*Brock</td>\n",
       "      <td>01/03/2019 04:19:00 PM</td>\n",
       "      <td>01/03/2019 04:19:00 PM</td>\n",
       "      <td>2501 Magin Meadow Dr in Austin (TX)</td>\n",
       "      <td>Stray</td>\n",
       "      <td>Normal</td>\n",
       "      <td>Dog</td>\n",
       "      <td>Neutered Male</td>\n",
       "      <td>2 years</td>\n",
       "      <td>Beagle Mix</td>\n",
       "      <td>Tricolor</td>\n",
       "    </tr>\n",
       "    <tr>\n",
       "      <th>1</th>\n",
       "      <td>A706918</td>\n",
       "      <td>Belle</td>\n",
       "      <td>07/05/2015 12:59:00 PM</td>\n",
       "      <td>07/05/2015 12:59:00 PM</td>\n",
       "      <td>9409 Bluegrass Dr in Austin (TX)</td>\n",
       "      <td>Stray</td>\n",
       "      <td>Normal</td>\n",
       "      <td>Dog</td>\n",
       "      <td>Spayed Female</td>\n",
       "      <td>8 years</td>\n",
       "      <td>English Springer Spaniel</td>\n",
       "      <td>White/Liver</td>\n",
       "    </tr>\n",
       "    <tr>\n",
       "      <th>2</th>\n",
       "      <td>A724273</td>\n",
       "      <td>Runster</td>\n",
       "      <td>04/14/2016 06:43:00 PM</td>\n",
       "      <td>04/14/2016 06:43:00 PM</td>\n",
       "      <td>2818 Palomino Trail in Austin (TX)</td>\n",
       "      <td>Stray</td>\n",
       "      <td>Normal</td>\n",
       "      <td>Dog</td>\n",
       "      <td>Intact Male</td>\n",
       "      <td>11 months</td>\n",
       "      <td>Basenji Mix</td>\n",
       "      <td>Sable/White</td>\n",
       "    </tr>\n",
       "    <tr>\n",
       "      <th>3</th>\n",
       "      <td>A665644</td>\n",
       "      <td>NaN</td>\n",
       "      <td>10/21/2013 07:59:00 AM</td>\n",
       "      <td>10/21/2013 07:59:00 AM</td>\n",
       "      <td>Austin (TX)</td>\n",
       "      <td>Stray</td>\n",
       "      <td>Sick</td>\n",
       "      <td>Cat</td>\n",
       "      <td>Intact Female</td>\n",
       "      <td>4 weeks</td>\n",
       "      <td>Domestic Shorthair Mix</td>\n",
       "      <td>Calico</td>\n",
       "    </tr>\n",
       "    <tr>\n",
       "      <th>4</th>\n",
       "      <td>A682524</td>\n",
       "      <td>Rio</td>\n",
       "      <td>06/29/2014 10:38:00 AM</td>\n",
       "      <td>06/29/2014 10:38:00 AM</td>\n",
       "      <td>800 Grove Blvd in Austin (TX)</td>\n",
       "      <td>Stray</td>\n",
       "      <td>Normal</td>\n",
       "      <td>Dog</td>\n",
       "      <td>Neutered Male</td>\n",
       "      <td>4 years</td>\n",
       "      <td>Doberman Pinsch/Australian Cattle Dog</td>\n",
       "      <td>Tan/Gray</td>\n",
       "    </tr>\n",
       "  </tbody>\n",
       "</table>\n",
       "</div>"
      ],
      "text/plain": [
       "  Animal ID     Name                DateTime               MonthYear  \\\n",
       "0   A786884   *Brock  01/03/2019 04:19:00 PM  01/03/2019 04:19:00 PM   \n",
       "1   A706918    Belle  07/05/2015 12:59:00 PM  07/05/2015 12:59:00 PM   \n",
       "2   A724273  Runster  04/14/2016 06:43:00 PM  04/14/2016 06:43:00 PM   \n",
       "3   A665644      NaN  10/21/2013 07:59:00 AM  10/21/2013 07:59:00 AM   \n",
       "4   A682524      Rio  06/29/2014 10:38:00 AM  06/29/2014 10:38:00 AM   \n",
       "\n",
       "                        Found Location Intake Type Intake Condition  \\\n",
       "0  2501 Magin Meadow Dr in Austin (TX)       Stray           Normal   \n",
       "1     9409 Bluegrass Dr in Austin (TX)       Stray           Normal   \n",
       "2   2818 Palomino Trail in Austin (TX)       Stray           Normal   \n",
       "3                          Austin (TX)       Stray             Sick   \n",
       "4        800 Grove Blvd in Austin (TX)       Stray           Normal   \n",
       "\n",
       "  Animal Type Sex upon Intake Age upon Intake  \\\n",
       "0         Dog   Neutered Male         2 years   \n",
       "1         Dog   Spayed Female         8 years   \n",
       "2         Dog     Intact Male       11 months   \n",
       "3         Cat   Intact Female         4 weeks   \n",
       "4         Dog   Neutered Male         4 years   \n",
       "\n",
       "                                   Breed        Color  \n",
       "0                             Beagle Mix     Tricolor  \n",
       "1               English Springer Spaniel  White/Liver  \n",
       "2                            Basenji Mix  Sable/White  \n",
       "3                 Domestic Shorthair Mix       Calico  \n",
       "4  Doberman Pinsch/Australian Cattle Dog     Tan/Gray  "
      ]
     },
     "execution_count": 12,
     "metadata": {},
     "output_type": "execute_result"
    }
   ],
   "source": [
    "animals_intakes_df.head()"
   ]
  },
  {
   "cell_type": "code",
   "execution_count": 13,
   "metadata": {},
   "outputs": [
    {
     "data": {
      "text/html": [
       "<div>\n",
       "<style scoped>\n",
       "    .dataframe tbody tr th:only-of-type {\n",
       "        vertical-align: middle;\n",
       "    }\n",
       "\n",
       "    .dataframe tbody tr th {\n",
       "        vertical-align: top;\n",
       "    }\n",
       "\n",
       "    .dataframe thead th {\n",
       "        text-align: right;\n",
       "    }\n",
       "</style>\n",
       "<table border=\"1\" class=\"dataframe\">\n",
       "  <thead>\n",
       "    <tr style=\"text-align: right;\">\n",
       "      <th></th>\n",
       "      <th>Animal ID</th>\n",
       "      <th>Name</th>\n",
       "      <th>DateTime</th>\n",
       "      <th>MonthYear</th>\n",
       "      <th>Found Location</th>\n",
       "      <th>Intake Type</th>\n",
       "      <th>Intake Condition</th>\n",
       "      <th>Animal Type</th>\n",
       "      <th>Sex upon Intake</th>\n",
       "      <th>Age upon Intake</th>\n",
       "      <th>Breed</th>\n",
       "      <th>Color</th>\n",
       "    </tr>\n",
       "  </thead>\n",
       "  <tbody>\n",
       "    <tr>\n",
       "      <th>124115</th>\n",
       "      <td>A828158</td>\n",
       "      <td>Odin</td>\n",
       "      <td>01/08/2021 07:01:00 PM</td>\n",
       "      <td>01/08/2021 07:01:00 PM</td>\n",
       "      <td>2224 E Stassney in Austin (TX)</td>\n",
       "      <td>Stray</td>\n",
       "      <td>Normal</td>\n",
       "      <td>Dog</td>\n",
       "      <td>Intact Male</td>\n",
       "      <td>10 months</td>\n",
       "      <td>Rottweiler Mix</td>\n",
       "      <td>Black/Tan</td>\n",
       "    </tr>\n",
       "    <tr>\n",
       "      <th>124116</th>\n",
       "      <td>A830183</td>\n",
       "      <td>NaN</td>\n",
       "      <td>03/03/2021 05:12:00 PM</td>\n",
       "      <td>03/03/2021 05:12:00 PM</td>\n",
       "      <td>6802 Bryonwood Drive in Austin (TX)</td>\n",
       "      <td>Stray</td>\n",
       "      <td>Medical</td>\n",
       "      <td>Dog</td>\n",
       "      <td>Intact Female</td>\n",
       "      <td>1 month</td>\n",
       "      <td>Chihuahua Shorthair</td>\n",
       "      <td>White</td>\n",
       "    </tr>\n",
       "    <tr>\n",
       "      <th>124117</th>\n",
       "      <td>A830180</td>\n",
       "      <td>Gigi</td>\n",
       "      <td>03/03/2021 04:31:00 PM</td>\n",
       "      <td>03/03/2021 04:31:00 PM</td>\n",
       "      <td>Austin (TX)</td>\n",
       "      <td>Owner Surrender</td>\n",
       "      <td>Normal</td>\n",
       "      <td>Dog</td>\n",
       "      <td>Intact Female</td>\n",
       "      <td>9 years</td>\n",
       "      <td>Australian Cattle Dog/Belgian Malinois</td>\n",
       "      <td>Brown Brindle/White</td>\n",
       "    </tr>\n",
       "    <tr>\n",
       "      <th>124118</th>\n",
       "      <td>A830171</td>\n",
       "      <td>NaN</td>\n",
       "      <td>03/03/2021 05:13:00 PM</td>\n",
       "      <td>03/03/2021 05:13:00 PM</td>\n",
       "      <td>1310 West Howard Lane in Austin (TX)</td>\n",
       "      <td>Stray</td>\n",
       "      <td>Normal</td>\n",
       "      <td>Dog</td>\n",
       "      <td>Intact Female</td>\n",
       "      <td>1 year</td>\n",
       "      <td>Plott Hound Mix</td>\n",
       "      <td>Brown Brindle/White</td>\n",
       "    </tr>\n",
       "    <tr>\n",
       "      <th>124119</th>\n",
       "      <td>A830181</td>\n",
       "      <td>Nona</td>\n",
       "      <td>03/03/2021 04:31:00 PM</td>\n",
       "      <td>03/03/2021 04:31:00 PM</td>\n",
       "      <td>Austin (TX)</td>\n",
       "      <td>Owner Surrender</td>\n",
       "      <td>Normal</td>\n",
       "      <td>Cat</td>\n",
       "      <td>Spayed Female</td>\n",
       "      <td>4 years</td>\n",
       "      <td>Domestic Shorthair Mix</td>\n",
       "      <td>White/Black</td>\n",
       "    </tr>\n",
       "  </tbody>\n",
       "</table>\n",
       "</div>"
      ],
      "text/plain": [
       "       Animal ID  Name                DateTime               MonthYear  \\\n",
       "124115   A828158  Odin  01/08/2021 07:01:00 PM  01/08/2021 07:01:00 PM   \n",
       "124116   A830183   NaN  03/03/2021 05:12:00 PM  03/03/2021 05:12:00 PM   \n",
       "124117   A830180  Gigi  03/03/2021 04:31:00 PM  03/03/2021 04:31:00 PM   \n",
       "124118   A830171   NaN  03/03/2021 05:13:00 PM  03/03/2021 05:13:00 PM   \n",
       "124119   A830181  Nona  03/03/2021 04:31:00 PM  03/03/2021 04:31:00 PM   \n",
       "\n",
       "                              Found Location      Intake Type  \\\n",
       "124115        2224 E Stassney in Austin (TX)            Stray   \n",
       "124116   6802 Bryonwood Drive in Austin (TX)            Stray   \n",
       "124117                           Austin (TX)  Owner Surrender   \n",
       "124118  1310 West Howard Lane in Austin (TX)            Stray   \n",
       "124119                           Austin (TX)  Owner Surrender   \n",
       "\n",
       "       Intake Condition Animal Type Sex upon Intake Age upon Intake  \\\n",
       "124115           Normal         Dog     Intact Male       10 months   \n",
       "124116          Medical         Dog   Intact Female         1 month   \n",
       "124117           Normal         Dog   Intact Female         9 years   \n",
       "124118           Normal         Dog   Intact Female          1 year   \n",
       "124119           Normal         Cat   Spayed Female         4 years   \n",
       "\n",
       "                                         Breed                Color  \n",
       "124115                          Rottweiler Mix            Black/Tan  \n",
       "124116                     Chihuahua Shorthair                White  \n",
       "124117  Australian Cattle Dog/Belgian Malinois  Brown Brindle/White  \n",
       "124118                         Plott Hound Mix  Brown Brindle/White  \n",
       "124119                  Domestic Shorthair Mix          White/Black  "
      ]
     },
     "execution_count": 13,
     "metadata": {},
     "output_type": "execute_result"
    }
   ],
   "source": [
    "animals_intakes_df.tail()\n"
   ]
  },
  {
   "cell_type": "markdown",
   "metadata": {},
   "source": [
    ">- **Our dataset contains information from the month of October 2013 to March 2021**"
   ]
  },
  {
   "cell_type": "code",
   "execution_count": 14,
   "metadata": {},
   "outputs": [
    {
     "data": {
      "text/html": [
       "<div>\n",
       "<style scoped>\n",
       "    .dataframe tbody tr th:only-of-type {\n",
       "        vertical-align: middle;\n",
       "    }\n",
       "\n",
       "    .dataframe tbody tr th {\n",
       "        vertical-align: top;\n",
       "    }\n",
       "\n",
       "    .dataframe thead th {\n",
       "        text-align: right;\n",
       "    }\n",
       "</style>\n",
       "<table border=\"1\" class=\"dataframe\">\n",
       "  <thead>\n",
       "    <tr style=\"text-align: right;\">\n",
       "      <th></th>\n",
       "      <th>Animal ID</th>\n",
       "      <th>Name</th>\n",
       "      <th>DateTime</th>\n",
       "      <th>MonthYear</th>\n",
       "      <th>Found Location</th>\n",
       "      <th>Intake Type</th>\n",
       "      <th>Intake Condition</th>\n",
       "      <th>Animal Type</th>\n",
       "      <th>Sex upon Intake</th>\n",
       "      <th>Age upon Intake</th>\n",
       "      <th>Breed</th>\n",
       "      <th>Color</th>\n",
       "    </tr>\n",
       "  </thead>\n",
       "  <tbody>\n",
       "    <tr>\n",
       "      <th>17145</th>\n",
       "      <td>A710247</td>\n",
       "      <td>NaN</td>\n",
       "      <td>08/20/2015 11:37:00 AM</td>\n",
       "      <td>08/20/2015 11:37:00 AM</td>\n",
       "      <td>1315 W St Johns in Austin (TX)</td>\n",
       "      <td>Stray</td>\n",
       "      <td>Normal</td>\n",
       "      <td>Other</td>\n",
       "      <td>Unknown</td>\n",
       "      <td>1 year</td>\n",
       "      <td>Raccoon Mix</td>\n",
       "      <td>Gray/Black</td>\n",
       "    </tr>\n",
       "    <tr>\n",
       "      <th>25307</th>\n",
       "      <td>A701881</td>\n",
       "      <td>Boots</td>\n",
       "      <td>05/05/2015 03:32:00 PM</td>\n",
       "      <td>05/05/2015 03:32:00 PM</td>\n",
       "      <td>2308 Perry Ave #106 in Austin (TX)</td>\n",
       "      <td>Owner Surrender</td>\n",
       "      <td>Sick</td>\n",
       "      <td>Cat</td>\n",
       "      <td>Intact Male</td>\n",
       "      <td>1 year</td>\n",
       "      <td>Domestic Shorthair Mix</td>\n",
       "      <td>Orange Tabby</td>\n",
       "    </tr>\n",
       "    <tr>\n",
       "      <th>28868</th>\n",
       "      <td>A740312</td>\n",
       "      <td>*Nibbles</td>\n",
       "      <td>12/14/2016 05:57:00 PM</td>\n",
       "      <td>12/14/2016 05:57:00 PM</td>\n",
       "      <td>409 E William Cannon Dr in Austin (TX)</td>\n",
       "      <td>Stray</td>\n",
       "      <td>Normal</td>\n",
       "      <td>Cat</td>\n",
       "      <td>Intact Male</td>\n",
       "      <td>2 months</td>\n",
       "      <td>Domestic Shorthair Mix</td>\n",
       "      <td>Blue Tabby</td>\n",
       "    </tr>\n",
       "    <tr>\n",
       "      <th>67270</th>\n",
       "      <td>A679212</td>\n",
       "      <td>NaN</td>\n",
       "      <td>05/17/2014 02:21:00 PM</td>\n",
       "      <td>05/17/2014 02:21:00 PM</td>\n",
       "      <td>909 W Village Ln in Austin (TX)</td>\n",
       "      <td>Stray</td>\n",
       "      <td>Normal</td>\n",
       "      <td>Cat</td>\n",
       "      <td>Intact Female</td>\n",
       "      <td>1 weeks</td>\n",
       "      <td>Domestic Shorthair Mix</td>\n",
       "      <td>Tortie</td>\n",
       "    </tr>\n",
       "    <tr>\n",
       "      <th>8881</th>\n",
       "      <td>A703989</td>\n",
       "      <td>NaN</td>\n",
       "      <td>05/31/2015 12:45:00 PM</td>\n",
       "      <td>05/31/2015 12:45:00 PM</td>\n",
       "      <td>3407B Willow Springs in Austin (TX)</td>\n",
       "      <td>Stray</td>\n",
       "      <td>Normal</td>\n",
       "      <td>Cat</td>\n",
       "      <td>Spayed Female</td>\n",
       "      <td>1 year</td>\n",
       "      <td>Domestic Shorthair Mix</td>\n",
       "      <td>Black</td>\n",
       "    </tr>\n",
       "  </tbody>\n",
       "</table>\n",
       "</div>"
      ],
      "text/plain": [
       "      Animal ID      Name                DateTime               MonthYear  \\\n",
       "17145   A710247       NaN  08/20/2015 11:37:00 AM  08/20/2015 11:37:00 AM   \n",
       "25307   A701881     Boots  05/05/2015 03:32:00 PM  05/05/2015 03:32:00 PM   \n",
       "28868   A740312  *Nibbles  12/14/2016 05:57:00 PM  12/14/2016 05:57:00 PM   \n",
       "67270   A679212       NaN  05/17/2014 02:21:00 PM  05/17/2014 02:21:00 PM   \n",
       "8881    A703989       NaN  05/31/2015 12:45:00 PM  05/31/2015 12:45:00 PM   \n",
       "\n",
       "                               Found Location      Intake Type  \\\n",
       "17145          1315 W St Johns in Austin (TX)            Stray   \n",
       "25307      2308 Perry Ave #106 in Austin (TX)  Owner Surrender   \n",
       "28868  409 E William Cannon Dr in Austin (TX)            Stray   \n",
       "67270         909 W Village Ln in Austin (TX)            Stray   \n",
       "8881      3407B Willow Springs in Austin (TX)            Stray   \n",
       "\n",
       "      Intake Condition Animal Type Sex upon Intake Age upon Intake  \\\n",
       "17145           Normal       Other         Unknown          1 year   \n",
       "25307             Sick         Cat     Intact Male          1 year   \n",
       "28868           Normal         Cat     Intact Male        2 months   \n",
       "67270           Normal         Cat   Intact Female         1 weeks   \n",
       "8881            Normal         Cat   Spayed Female          1 year   \n",
       "\n",
       "                        Breed         Color  \n",
       "17145             Raccoon Mix    Gray/Black  \n",
       "25307  Domestic Shorthair Mix  Orange Tabby  \n",
       "28868  Domestic Shorthair Mix    Blue Tabby  \n",
       "67270  Domestic Shorthair Mix        Tortie  \n",
       "8881   Domestic Shorthair Mix         Black  "
      ]
     },
     "execution_count": 14,
     "metadata": {},
     "output_type": "execute_result"
    }
   ],
   "source": [
    "animals_intakes_df.sample(5)"
   ]
  },
  {
   "cell_type": "code",
   "execution_count": 15,
   "metadata": {},
   "outputs": [
    {
     "data": {
      "text/html": [
       "<div>\n",
       "<style scoped>\n",
       "    .dataframe tbody tr th:only-of-type {\n",
       "        vertical-align: middle;\n",
       "    }\n",
       "\n",
       "    .dataframe tbody tr th {\n",
       "        vertical-align: top;\n",
       "    }\n",
       "\n",
       "    .dataframe thead th {\n",
       "        text-align: right;\n",
       "    }\n",
       "</style>\n",
       "<table border=\"1\" class=\"dataframe\">\n",
       "  <thead>\n",
       "    <tr style=\"text-align: right;\">\n",
       "      <th></th>\n",
       "      <th>Animal ID</th>\n",
       "      <th>Name</th>\n",
       "      <th>DateTime</th>\n",
       "      <th>MonthYear</th>\n",
       "      <th>Found Location</th>\n",
       "      <th>Intake Type</th>\n",
       "      <th>Intake Condition</th>\n",
       "      <th>Animal Type</th>\n",
       "      <th>Sex upon Intake</th>\n",
       "      <th>Age upon Intake</th>\n",
       "      <th>Breed</th>\n",
       "      <th>Color</th>\n",
       "    </tr>\n",
       "  </thead>\n",
       "  <tbody>\n",
       "    <tr>\n",
       "      <th>count</th>\n",
       "      <td>124120</td>\n",
       "      <td>85069</td>\n",
       "      <td>124120</td>\n",
       "      <td>124120</td>\n",
       "      <td>124120</td>\n",
       "      <td>124120</td>\n",
       "      <td>124120</td>\n",
       "      <td>124120</td>\n",
       "      <td>124119</td>\n",
       "      <td>124120</td>\n",
       "      <td>124120</td>\n",
       "      <td>124120</td>\n",
       "    </tr>\n",
       "    <tr>\n",
       "      <th>unique</th>\n",
       "      <td>110926</td>\n",
       "      <td>19748</td>\n",
       "      <td>87660</td>\n",
       "      <td>87660</td>\n",
       "      <td>53703</td>\n",
       "      <td>6</td>\n",
       "      <td>10</td>\n",
       "      <td>5</td>\n",
       "      <td>5</td>\n",
       "      <td>52</td>\n",
       "      <td>2629</td>\n",
       "      <td>595</td>\n",
       "    </tr>\n",
       "    <tr>\n",
       "      <th>top</th>\n",
       "      <td>A721033</td>\n",
       "      <td>Max</td>\n",
       "      <td>09/23/2016 12:00:00 PM</td>\n",
       "      <td>09/23/2016 12:00:00 PM</td>\n",
       "      <td>Austin (TX)</td>\n",
       "      <td>Stray</td>\n",
       "      <td>Normal</td>\n",
       "      <td>Dog</td>\n",
       "      <td>Intact Male</td>\n",
       "      <td>1 year</td>\n",
       "      <td>Domestic Shorthair Mix</td>\n",
       "      <td>Black/White</td>\n",
       "    </tr>\n",
       "    <tr>\n",
       "      <th>freq</th>\n",
       "      <td>33</td>\n",
       "      <td>564</td>\n",
       "      <td>64</td>\n",
       "      <td>64</td>\n",
       "      <td>22859</td>\n",
       "      <td>86455</td>\n",
       "      <td>107952</td>\n",
       "      <td>70447</td>\n",
       "      <td>40316</td>\n",
       "      <td>21794</td>\n",
       "      <td>30985</td>\n",
       "      <td>13034</td>\n",
       "    </tr>\n",
       "  </tbody>\n",
       "</table>\n",
       "</div>"
      ],
      "text/plain": [
       "       Animal ID   Name                DateTime               MonthYear  \\\n",
       "count     124120  85069                  124120                  124120   \n",
       "unique    110926  19748                   87660                   87660   \n",
       "top      A721033    Max  09/23/2016 12:00:00 PM  09/23/2016 12:00:00 PM   \n",
       "freq          33    564                      64                      64   \n",
       "\n",
       "       Found Location Intake Type Intake Condition Animal Type  \\\n",
       "count          124120      124120           124120      124120   \n",
       "unique          53703           6               10           5   \n",
       "top       Austin (TX)       Stray           Normal         Dog   \n",
       "freq            22859       86455           107952       70447   \n",
       "\n",
       "       Sex upon Intake Age upon Intake                   Breed        Color  \n",
       "count           124119          124120                  124120       124120  \n",
       "unique               5              52                    2629          595  \n",
       "top        Intact Male          1 year  Domestic Shorthair Mix  Black/White  \n",
       "freq             40316           21794                   30985        13034  "
      ]
     },
     "execution_count": 15,
     "metadata": {},
     "output_type": "execute_result"
    }
   ],
   "source": [
    "animals_intakes_df.describe()"
   ]
  },
  {
   "cell_type": "code",
   "execution_count": 16,
   "metadata": {
    "scrolled": true
   },
   "outputs": [
    {
     "name": "stdout",
     "output_type": "stream",
     "text": [
      "<class 'pandas.core.frame.DataFrame'>\n",
      "RangeIndex: 124120 entries, 0 to 124119\n",
      "Data columns (total 12 columns):\n",
      " #   Column            Non-Null Count   Dtype \n",
      "---  ------            --------------   ----- \n",
      " 0   Animal ID         124120 non-null  object\n",
      " 1   Name              85069 non-null   object\n",
      " 2   DateTime          124120 non-null  object\n",
      " 3   MonthYear         124120 non-null  object\n",
      " 4   Found Location    124120 non-null  object\n",
      " 5   Intake Type       124120 non-null  object\n",
      " 6   Intake Condition  124120 non-null  object\n",
      " 7   Animal Type       124120 non-null  object\n",
      " 8   Sex upon Intake   124119 non-null  object\n",
      " 9   Age upon Intake   124120 non-null  object\n",
      " 10  Breed             124120 non-null  object\n",
      " 11  Color             124120 non-null  object\n",
      "dtypes: object(12)\n",
      "memory usage: 11.4+ MB\n"
     ]
    }
   ],
   "source": [
    "animals_intakes_df.info()"
   ]
  },
  {
   "cell_type": "markdown",
   "metadata": {},
   "source": [
    ">- **We can observe that there overall 124120 entries or rows, however the 'Name' column has 85069 entries other 39051 entries are nan in this case there are 12k rows so we can drop the nans containing data** "
   ]
  },
  {
   "cell_type": "code",
   "execution_count": 17,
   "metadata": {},
   "outputs": [
    {
     "data": {
      "text/plain": [
       "Animal ID               0\n",
       "Name                39051\n",
       "DateTime                0\n",
       "MonthYear               0\n",
       "Found Location          0\n",
       "Intake Type             0\n",
       "Intake Condition        0\n",
       "Animal Type             0\n",
       "Sex upon Intake         1\n",
       "Age upon Intake         0\n",
       "Breed                   0\n",
       "Color                   0\n",
       "dtype: int64"
      ]
     },
     "execution_count": 17,
     "metadata": {},
     "output_type": "execute_result"
    }
   ],
   "source": [
    "animals_intakes_df.isna().sum() #checking for nans"
   ]
  },
  {
   "cell_type": "code",
   "execution_count": 18,
   "metadata": {},
   "outputs": [],
   "source": [
    "animals_intakes_df.dropna(inplace=True)  #dropping nans using panda's dropna()"
   ]
  },
  {
   "cell_type": "code",
   "execution_count": 19,
   "metadata": {},
   "outputs": [
    {
     "name": "stdout",
     "output_type": "stream",
     "text": [
      "<class 'pandas.core.frame.DataFrame'>\n",
      "Int64Index: 85068 entries, 0 to 124119\n",
      "Data columns (total 12 columns):\n",
      " #   Column            Non-Null Count  Dtype \n",
      "---  ------            --------------  ----- \n",
      " 0   Animal ID         85068 non-null  object\n",
      " 1   Name              85068 non-null  object\n",
      " 2   DateTime          85068 non-null  object\n",
      " 3   MonthYear         85068 non-null  object\n",
      " 4   Found Location    85068 non-null  object\n",
      " 5   Intake Type       85068 non-null  object\n",
      " 6   Intake Condition  85068 non-null  object\n",
      " 7   Animal Type       85068 non-null  object\n",
      " 8   Sex upon Intake   85068 non-null  object\n",
      " 9   Age upon Intake   85068 non-null  object\n",
      " 10  Breed             85068 non-null  object\n",
      " 11  Color             85068 non-null  object\n",
      "dtypes: object(12)\n",
      "memory usage: 8.4+ MB\n"
     ]
    }
   ],
   "source": [
    "animals_intakes_df.info() #fixed"
   ]
  },
  {
   "cell_type": "code",
   "execution_count": 20,
   "metadata": {
    "scrolled": true
   },
   "outputs": [
    {
     "data": {
      "text/html": [
       "<div>\n",
       "<style scoped>\n",
       "    .dataframe tbody tr th:only-of-type {\n",
       "        vertical-align: middle;\n",
       "    }\n",
       "\n",
       "    .dataframe tbody tr th {\n",
       "        vertical-align: top;\n",
       "    }\n",
       "\n",
       "    .dataframe thead th {\n",
       "        text-align: right;\n",
       "    }\n",
       "</style>\n",
       "<table border=\"1\" class=\"dataframe\">\n",
       "  <thead>\n",
       "    <tr style=\"text-align: right;\">\n",
       "      <th></th>\n",
       "      <th>Animal ID</th>\n",
       "      <th>Name</th>\n",
       "      <th>DateTime</th>\n",
       "      <th>MonthYear</th>\n",
       "      <th>Found Location</th>\n",
       "      <th>Intake Type</th>\n",
       "      <th>Intake Condition</th>\n",
       "      <th>Animal Type</th>\n",
       "      <th>Sex upon Intake</th>\n",
       "      <th>Age upon Intake</th>\n",
       "      <th>Breed</th>\n",
       "      <th>Color</th>\n",
       "    </tr>\n",
       "  </thead>\n",
       "  <tbody>\n",
       "    <tr>\n",
       "      <th>25233</th>\n",
       "      <td>A679597</td>\n",
       "      <td>Bruno</td>\n",
       "      <td>01/24/2018 01:12:00 PM</td>\n",
       "      <td>01/24/2018 01:12:00 PM</td>\n",
       "      <td>6102 Caroline in Austin (TX)</td>\n",
       "      <td>Stray</td>\n",
       "      <td>Normal</td>\n",
       "      <td>Dog</td>\n",
       "      <td>Neutered Male</td>\n",
       "      <td>4 years</td>\n",
       "      <td>Labrador Retriever</td>\n",
       "      <td>Black/White</td>\n",
       "    </tr>\n",
       "    <tr>\n",
       "      <th>44645</th>\n",
       "      <td>A750194</td>\n",
       "      <td>Honey</td>\n",
       "      <td>05/24/2017 09:49:00 AM</td>\n",
       "      <td>05/24/2017 09:49:00 AM</td>\n",
       "      <td>Del Valle (TX)</td>\n",
       "      <td>Owner Surrender</td>\n",
       "      <td>Normal</td>\n",
       "      <td>Cat</td>\n",
       "      <td>Intact Female</td>\n",
       "      <td>1 month</td>\n",
       "      <td>Domestic Shorthair Mix</td>\n",
       "      <td>Orange Tabby/White</td>\n",
       "    </tr>\n",
       "    <tr>\n",
       "      <th>66440</th>\n",
       "      <td>A696650</td>\n",
       "      <td>Kitkat</td>\n",
       "      <td>02/09/2015 01:11:00 PM</td>\n",
       "      <td>02/09/2015 01:11:00 PM</td>\n",
       "      <td>Verra Drive &amp; Springdale Road in Austin (TX)</td>\n",
       "      <td>Stray</td>\n",
       "      <td>Normal</td>\n",
       "      <td>Dog</td>\n",
       "      <td>Intact Female</td>\n",
       "      <td>14 years</td>\n",
       "      <td>Dachshund</td>\n",
       "      <td>Brown</td>\n",
       "    </tr>\n",
       "    <tr>\n",
       "      <th>50654</th>\n",
       "      <td>A786806</td>\n",
       "      <td>*Scout</td>\n",
       "      <td>01/02/2019 12:18:00 PM</td>\n",
       "      <td>01/02/2019 12:18:00 PM</td>\n",
       "      <td>501 South Highway 183 in Austin (TX)</td>\n",
       "      <td>Stray</td>\n",
       "      <td>Normal</td>\n",
       "      <td>Dog</td>\n",
       "      <td>Intact Male</td>\n",
       "      <td>2 years</td>\n",
       "      <td>Australian Kelpie Mix</td>\n",
       "      <td>Black/Brown</td>\n",
       "    </tr>\n",
       "    <tr>\n",
       "      <th>7527</th>\n",
       "      <td>A700282</td>\n",
       "      <td>Keno</td>\n",
       "      <td>04/11/2015 11:21:00 AM</td>\n",
       "      <td>04/11/2015 11:21:00 AM</td>\n",
       "      <td>Austin (TX)</td>\n",
       "      <td>Stray</td>\n",
       "      <td>Normal</td>\n",
       "      <td>Dog</td>\n",
       "      <td>Neutered Male</td>\n",
       "      <td>5 years</td>\n",
       "      <td>Siberian Husky Mix</td>\n",
       "      <td>Red</td>\n",
       "    </tr>\n",
       "  </tbody>\n",
       "</table>\n",
       "</div>"
      ],
      "text/plain": [
       "      Animal ID    Name                DateTime               MonthYear  \\\n",
       "25233   A679597   Bruno  01/24/2018 01:12:00 PM  01/24/2018 01:12:00 PM   \n",
       "44645   A750194   Honey  05/24/2017 09:49:00 AM  05/24/2017 09:49:00 AM   \n",
       "66440   A696650  Kitkat  02/09/2015 01:11:00 PM  02/09/2015 01:11:00 PM   \n",
       "50654   A786806  *Scout  01/02/2019 12:18:00 PM  01/02/2019 12:18:00 PM   \n",
       "7527    A700282    Keno  04/11/2015 11:21:00 AM  04/11/2015 11:21:00 AM   \n",
       "\n",
       "                                     Found Location      Intake Type  \\\n",
       "25233                  6102 Caroline in Austin (TX)            Stray   \n",
       "44645                                Del Valle (TX)  Owner Surrender   \n",
       "66440  Verra Drive & Springdale Road in Austin (TX)            Stray   \n",
       "50654          501 South Highway 183 in Austin (TX)            Stray   \n",
       "7527                                    Austin (TX)            Stray   \n",
       "\n",
       "      Intake Condition Animal Type Sex upon Intake Age upon Intake  \\\n",
       "25233           Normal         Dog   Neutered Male         4 years   \n",
       "44645           Normal         Cat   Intact Female         1 month   \n",
       "66440           Normal         Dog   Intact Female        14 years   \n",
       "50654           Normal         Dog     Intact Male         2 years   \n",
       "7527            Normal         Dog   Neutered Male         5 years   \n",
       "\n",
       "                        Breed               Color  \n",
       "25233      Labrador Retriever         Black/White  \n",
       "44645  Domestic Shorthair Mix  Orange Tabby/White  \n",
       "66440               Dachshund               Brown  \n",
       "50654   Australian Kelpie Mix         Black/Brown  \n",
       "7527       Siberian Husky Mix                 Red  "
      ]
     },
     "execution_count": 20,
     "metadata": {},
     "output_type": "execute_result"
    }
   ],
   "source": [
    "animals_intakes_df.sample(5)"
   ]
  },
  {
   "cell_type": "markdown",
   "metadata": {},
   "source": [
    ">- **The data also has 'DateTime' column which we can use to gain more insights but currently it is object datatype which needs to be converted to datetime datatype so that we can use it properly**"
   ]
  },
  {
   "cell_type": "code",
   "execution_count": 21,
   "metadata": {},
   "outputs": [],
   "source": [
    "animals_intakes_df['date'] = pd.to_datetime(animals_intakes_df.DateTime)"
   ]
  },
  {
   "cell_type": "markdown",
   "metadata": {},
   "source": [
    "**Adding columns(IntakeYear, IntakeMonth, IntakeDay, IntakeWeekday, IntakeHour) from date for our data visualisations**"
   ]
  },
  {
   "cell_type": "code",
   "execution_count": 22,
   "metadata": {},
   "outputs": [],
   "source": [
    "animals_intakes_df['IntakeYear'] = pd.DatetimeIndex(animals_intakes_df.date).year\n",
    "animals_intakes_df['IntakeMonth'] = pd.DatetimeIndex(animals_intakes_df.date).month\n",
    "animals_intakes_df['IntakeDay'] = pd.DatetimeIndex(animals_intakes_df.date).day\n",
    "animals_intakes_df['IntakeWeekday'] = pd.DatetimeIndex(animals_intakes_df.date).weekday\n",
    "animals_intakes_df['IntakeHour'] = pd.DatetimeIndex(animals_intakes_df.date).hour"
   ]
  },
  {
   "cell_type": "code",
   "execution_count": 23,
   "metadata": {},
   "outputs": [
    {
     "data": {
      "text/html": [
       "<div>\n",
       "<style scoped>\n",
       "    .dataframe tbody tr th:only-of-type {\n",
       "        vertical-align: middle;\n",
       "    }\n",
       "\n",
       "    .dataframe tbody tr th {\n",
       "        vertical-align: top;\n",
       "    }\n",
       "\n",
       "    .dataframe thead th {\n",
       "        text-align: right;\n",
       "    }\n",
       "</style>\n",
       "<table border=\"1\" class=\"dataframe\">\n",
       "  <thead>\n",
       "    <tr style=\"text-align: right;\">\n",
       "      <th></th>\n",
       "      <th>Animal ID</th>\n",
       "      <th>Name</th>\n",
       "      <th>DateTime</th>\n",
       "      <th>MonthYear</th>\n",
       "      <th>Found Location</th>\n",
       "      <th>Intake Type</th>\n",
       "      <th>Intake Condition</th>\n",
       "      <th>Animal Type</th>\n",
       "      <th>Sex upon Intake</th>\n",
       "      <th>Age upon Intake</th>\n",
       "      <th>Breed</th>\n",
       "      <th>Color</th>\n",
       "      <th>date</th>\n",
       "      <th>IntakeYear</th>\n",
       "      <th>IntakeMonth</th>\n",
       "      <th>IntakeDay</th>\n",
       "      <th>IntakeWeekday</th>\n",
       "      <th>IntakeHour</th>\n",
       "    </tr>\n",
       "  </thead>\n",
       "  <tbody>\n",
       "    <tr>\n",
       "      <th>0</th>\n",
       "      <td>A786884</td>\n",
       "      <td>*Brock</td>\n",
       "      <td>01/03/2019 04:19:00 PM</td>\n",
       "      <td>01/03/2019 04:19:00 PM</td>\n",
       "      <td>2501 Magin Meadow Dr in Austin (TX)</td>\n",
       "      <td>Stray</td>\n",
       "      <td>Normal</td>\n",
       "      <td>Dog</td>\n",
       "      <td>Neutered Male</td>\n",
       "      <td>2 years</td>\n",
       "      <td>Beagle Mix</td>\n",
       "      <td>Tricolor</td>\n",
       "      <td>2019-01-03 16:19:00</td>\n",
       "      <td>2019</td>\n",
       "      <td>1</td>\n",
       "      <td>3</td>\n",
       "      <td>3</td>\n",
       "      <td>16</td>\n",
       "    </tr>\n",
       "    <tr>\n",
       "      <th>1</th>\n",
       "      <td>A706918</td>\n",
       "      <td>Belle</td>\n",
       "      <td>07/05/2015 12:59:00 PM</td>\n",
       "      <td>07/05/2015 12:59:00 PM</td>\n",
       "      <td>9409 Bluegrass Dr in Austin (TX)</td>\n",
       "      <td>Stray</td>\n",
       "      <td>Normal</td>\n",
       "      <td>Dog</td>\n",
       "      <td>Spayed Female</td>\n",
       "      <td>8 years</td>\n",
       "      <td>English Springer Spaniel</td>\n",
       "      <td>White/Liver</td>\n",
       "      <td>2015-07-05 12:59:00</td>\n",
       "      <td>2015</td>\n",
       "      <td>7</td>\n",
       "      <td>5</td>\n",
       "      <td>6</td>\n",
       "      <td>12</td>\n",
       "    </tr>\n",
       "    <tr>\n",
       "      <th>2</th>\n",
       "      <td>A724273</td>\n",
       "      <td>Runster</td>\n",
       "      <td>04/14/2016 06:43:00 PM</td>\n",
       "      <td>04/14/2016 06:43:00 PM</td>\n",
       "      <td>2818 Palomino Trail in Austin (TX)</td>\n",
       "      <td>Stray</td>\n",
       "      <td>Normal</td>\n",
       "      <td>Dog</td>\n",
       "      <td>Intact Male</td>\n",
       "      <td>11 months</td>\n",
       "      <td>Basenji Mix</td>\n",
       "      <td>Sable/White</td>\n",
       "      <td>2016-04-14 18:43:00</td>\n",
       "      <td>2016</td>\n",
       "      <td>4</td>\n",
       "      <td>14</td>\n",
       "      <td>3</td>\n",
       "      <td>18</td>\n",
       "    </tr>\n",
       "    <tr>\n",
       "      <th>4</th>\n",
       "      <td>A682524</td>\n",
       "      <td>Rio</td>\n",
       "      <td>06/29/2014 10:38:00 AM</td>\n",
       "      <td>06/29/2014 10:38:00 AM</td>\n",
       "      <td>800 Grove Blvd in Austin (TX)</td>\n",
       "      <td>Stray</td>\n",
       "      <td>Normal</td>\n",
       "      <td>Dog</td>\n",
       "      <td>Neutered Male</td>\n",
       "      <td>4 years</td>\n",
       "      <td>Doberman Pinsch/Australian Cattle Dog</td>\n",
       "      <td>Tan/Gray</td>\n",
       "      <td>2014-06-29 10:38:00</td>\n",
       "      <td>2014</td>\n",
       "      <td>6</td>\n",
       "      <td>29</td>\n",
       "      <td>6</td>\n",
       "      <td>10</td>\n",
       "    </tr>\n",
       "    <tr>\n",
       "      <th>5</th>\n",
       "      <td>A743852</td>\n",
       "      <td>Odin</td>\n",
       "      <td>02/18/2017 12:46:00 PM</td>\n",
       "      <td>02/18/2017 12:46:00 PM</td>\n",
       "      <td>Austin (TX)</td>\n",
       "      <td>Owner Surrender</td>\n",
       "      <td>Normal</td>\n",
       "      <td>Dog</td>\n",
       "      <td>Neutered Male</td>\n",
       "      <td>2 years</td>\n",
       "      <td>Labrador Retriever Mix</td>\n",
       "      <td>Chocolate</td>\n",
       "      <td>2017-02-18 12:46:00</td>\n",
       "      <td>2017</td>\n",
       "      <td>2</td>\n",
       "      <td>18</td>\n",
       "      <td>5</td>\n",
       "      <td>12</td>\n",
       "    </tr>\n",
       "  </tbody>\n",
       "</table>\n",
       "</div>"
      ],
      "text/plain": [
       "  Animal ID     Name                DateTime               MonthYear  \\\n",
       "0   A786884   *Brock  01/03/2019 04:19:00 PM  01/03/2019 04:19:00 PM   \n",
       "1   A706918    Belle  07/05/2015 12:59:00 PM  07/05/2015 12:59:00 PM   \n",
       "2   A724273  Runster  04/14/2016 06:43:00 PM  04/14/2016 06:43:00 PM   \n",
       "4   A682524      Rio  06/29/2014 10:38:00 AM  06/29/2014 10:38:00 AM   \n",
       "5   A743852     Odin  02/18/2017 12:46:00 PM  02/18/2017 12:46:00 PM   \n",
       "\n",
       "                        Found Location      Intake Type Intake Condition  \\\n",
       "0  2501 Magin Meadow Dr in Austin (TX)            Stray           Normal   \n",
       "1     9409 Bluegrass Dr in Austin (TX)            Stray           Normal   \n",
       "2   2818 Palomino Trail in Austin (TX)            Stray           Normal   \n",
       "4        800 Grove Blvd in Austin (TX)            Stray           Normal   \n",
       "5                          Austin (TX)  Owner Surrender           Normal   \n",
       "\n",
       "  Animal Type Sex upon Intake Age upon Intake  \\\n",
       "0         Dog   Neutered Male         2 years   \n",
       "1         Dog   Spayed Female         8 years   \n",
       "2         Dog     Intact Male       11 months   \n",
       "4         Dog   Neutered Male         4 years   \n",
       "5         Dog   Neutered Male         2 years   \n",
       "\n",
       "                                   Breed        Color                date  \\\n",
       "0                             Beagle Mix     Tricolor 2019-01-03 16:19:00   \n",
       "1               English Springer Spaniel  White/Liver 2015-07-05 12:59:00   \n",
       "2                            Basenji Mix  Sable/White 2016-04-14 18:43:00   \n",
       "4  Doberman Pinsch/Australian Cattle Dog     Tan/Gray 2014-06-29 10:38:00   \n",
       "5                 Labrador Retriever Mix    Chocolate 2017-02-18 12:46:00   \n",
       "\n",
       "   IntakeYear  IntakeMonth  IntakeDay  IntakeWeekday  IntakeHour  \n",
       "0        2019            1          3              3          16  \n",
       "1        2015            7          5              6          12  \n",
       "2        2016            4         14              3          18  \n",
       "4        2014            6         29              6          10  \n",
       "5        2017            2         18              5          12  "
      ]
     },
     "execution_count": 23,
     "metadata": {},
     "output_type": "execute_result"
    }
   ],
   "source": [
    "animals_intakes_df.head(5)"
   ]
  },
  {
   "cell_type": "code",
   "execution_count": 24,
   "metadata": {},
   "outputs": [],
   "source": [
    "animals_intakes_df.drop(columns=['MonthYear'], inplace=True) #dropping 'MonthYear' column as we got the same from 'date' column"
   ]
  },
  {
   "cell_type": "code",
   "execution_count": 25,
   "metadata": {
    "scrolled": true
   },
   "outputs": [
    {
     "data": {
      "text/plain": [
       "Index(['Animal ID', 'Name', 'DateTime', 'Found Location', 'Intake Type',\n",
       "       'Intake Condition', 'Animal Type', 'Sex upon Intake', 'Age upon Intake',\n",
       "       'Breed', 'Color', 'date', 'IntakeYear', 'IntakeMonth', 'IntakeDay',\n",
       "       'IntakeWeekday', 'IntakeHour'],\n",
       "      dtype='object')"
      ]
     },
     "execution_count": 25,
     "metadata": {},
     "output_type": "execute_result"
    }
   ],
   "source": [
    "animals_intakes_df.columns"
   ]
  },
  {
   "cell_type": "markdown",
   "metadata": {},
   "source": [
    ">- **Now the exploring the animals_outcomes_df dataset**"
   ]
  },
  {
   "cell_type": "code",
   "execution_count": 26,
   "metadata": {
    "scrolled": true
   },
   "outputs": [
    {
     "name": "stdout",
     "output_type": "stream",
     "text": [
      "<class 'pandas.core.frame.DataFrame'>\n",
      "RangeIndex: 124491 entries, 0 to 124490\n",
      "Data columns (total 12 columns):\n",
      " #   Column            Non-Null Count   Dtype \n",
      "---  ------            --------------   ----- \n",
      " 0   Animal ID         124491 non-null  object\n",
      " 1   Name              85466 non-null   object\n",
      " 2   DateTime          124491 non-null  object\n",
      " 3   MonthYear         124491 non-null  object\n",
      " 4   Date of Birth     124491 non-null  object\n",
      " 5   Outcome Type      124471 non-null  object\n",
      " 6   Outcome Subtype   57308 non-null   object\n",
      " 7   Animal Type       124491 non-null  object\n",
      " 8   Sex upon Outcome  124490 non-null  object\n",
      " 9   Age upon Outcome  124486 non-null  object\n",
      " 10  Breed             124491 non-null  object\n",
      " 11  Color             124491 non-null  object\n",
      "dtypes: object(12)\n",
      "memory usage: 11.4+ MB\n"
     ]
    }
   ],
   "source": [
    "animals_outcomes_df.info()"
   ]
  },
  {
   "cell_type": "code",
   "execution_count": 27,
   "metadata": {},
   "outputs": [
    {
     "data": {
      "text/html": [
       "<div>\n",
       "<style scoped>\n",
       "    .dataframe tbody tr th:only-of-type {\n",
       "        vertical-align: middle;\n",
       "    }\n",
       "\n",
       "    .dataframe tbody tr th {\n",
       "        vertical-align: top;\n",
       "    }\n",
       "\n",
       "    .dataframe thead th {\n",
       "        text-align: right;\n",
       "    }\n",
       "</style>\n",
       "<table border=\"1\" class=\"dataframe\">\n",
       "  <thead>\n",
       "    <tr style=\"text-align: right;\">\n",
       "      <th></th>\n",
       "      <th>Animal ID</th>\n",
       "      <th>Name</th>\n",
       "      <th>DateTime</th>\n",
       "      <th>MonthYear</th>\n",
       "      <th>Date of Birth</th>\n",
       "      <th>Outcome Type</th>\n",
       "      <th>Outcome Subtype</th>\n",
       "      <th>Animal Type</th>\n",
       "      <th>Sex upon Outcome</th>\n",
       "      <th>Age upon Outcome</th>\n",
       "      <th>Breed</th>\n",
       "      <th>Color</th>\n",
       "    </tr>\n",
       "  </thead>\n",
       "  <tbody>\n",
       "    <tr>\n",
       "      <th>0</th>\n",
       "      <td>A794011</td>\n",
       "      <td>Chunk</td>\n",
       "      <td>05/08/2019 06:20:00 PM</td>\n",
       "      <td>05/08/2019 06:20:00 PM</td>\n",
       "      <td>05/02/2017</td>\n",
       "      <td>Rto-Adopt</td>\n",
       "      <td>NaN</td>\n",
       "      <td>Cat</td>\n",
       "      <td>Neutered Male</td>\n",
       "      <td>2 years</td>\n",
       "      <td>Domestic Shorthair Mix</td>\n",
       "      <td>Brown Tabby/White</td>\n",
       "    </tr>\n",
       "    <tr>\n",
       "      <th>1</th>\n",
       "      <td>A776359</td>\n",
       "      <td>Gizmo</td>\n",
       "      <td>07/18/2018 04:02:00 PM</td>\n",
       "      <td>07/18/2018 04:02:00 PM</td>\n",
       "      <td>07/12/2017</td>\n",
       "      <td>Adoption</td>\n",
       "      <td>NaN</td>\n",
       "      <td>Dog</td>\n",
       "      <td>Neutered Male</td>\n",
       "      <td>1 year</td>\n",
       "      <td>Chihuahua Shorthair Mix</td>\n",
       "      <td>White/Brown</td>\n",
       "    </tr>\n",
       "    <tr>\n",
       "      <th>2</th>\n",
       "      <td>A821648</td>\n",
       "      <td>NaN</td>\n",
       "      <td>08/16/2020 11:38:00 AM</td>\n",
       "      <td>08/16/2020 11:38:00 AM</td>\n",
       "      <td>08/16/2019</td>\n",
       "      <td>Euthanasia</td>\n",
       "      <td>NaN</td>\n",
       "      <td>Other</td>\n",
       "      <td>Unknown</td>\n",
       "      <td>1 year</td>\n",
       "      <td>Raccoon</td>\n",
       "      <td>Gray</td>\n",
       "    </tr>\n",
       "    <tr>\n",
       "      <th>3</th>\n",
       "      <td>A720371</td>\n",
       "      <td>Moose</td>\n",
       "      <td>02/13/2016 05:59:00 PM</td>\n",
       "      <td>02/13/2016 05:59:00 PM</td>\n",
       "      <td>10/08/2015</td>\n",
       "      <td>Adoption</td>\n",
       "      <td>NaN</td>\n",
       "      <td>Dog</td>\n",
       "      <td>Neutered Male</td>\n",
       "      <td>4 months</td>\n",
       "      <td>Anatol Shepherd/Labrador Retriever</td>\n",
       "      <td>Buff</td>\n",
       "    </tr>\n",
       "    <tr>\n",
       "      <th>4</th>\n",
       "      <td>A674754</td>\n",
       "      <td>NaN</td>\n",
       "      <td>03/18/2014 11:47:00 AM</td>\n",
       "      <td>03/18/2014 11:47:00 AM</td>\n",
       "      <td>03/12/2014</td>\n",
       "      <td>Transfer</td>\n",
       "      <td>Partner</td>\n",
       "      <td>Cat</td>\n",
       "      <td>Intact Male</td>\n",
       "      <td>6 days</td>\n",
       "      <td>Domestic Shorthair Mix</td>\n",
       "      <td>Orange Tabby</td>\n",
       "    </tr>\n",
       "  </tbody>\n",
       "</table>\n",
       "</div>"
      ],
      "text/plain": [
       "  Animal ID   Name                DateTime               MonthYear  \\\n",
       "0   A794011  Chunk  05/08/2019 06:20:00 PM  05/08/2019 06:20:00 PM   \n",
       "1   A776359  Gizmo  07/18/2018 04:02:00 PM  07/18/2018 04:02:00 PM   \n",
       "2   A821648    NaN  08/16/2020 11:38:00 AM  08/16/2020 11:38:00 AM   \n",
       "3   A720371  Moose  02/13/2016 05:59:00 PM  02/13/2016 05:59:00 PM   \n",
       "4   A674754    NaN  03/18/2014 11:47:00 AM  03/18/2014 11:47:00 AM   \n",
       "\n",
       "  Date of Birth Outcome Type Outcome Subtype Animal Type Sex upon Outcome  \\\n",
       "0    05/02/2017    Rto-Adopt             NaN         Cat    Neutered Male   \n",
       "1    07/12/2017     Adoption             NaN         Dog    Neutered Male   \n",
       "2    08/16/2019   Euthanasia             NaN       Other          Unknown   \n",
       "3    10/08/2015     Adoption             NaN         Dog    Neutered Male   \n",
       "4    03/12/2014     Transfer         Partner         Cat      Intact Male   \n",
       "\n",
       "  Age upon Outcome                               Breed              Color  \n",
       "0          2 years              Domestic Shorthair Mix  Brown Tabby/White  \n",
       "1           1 year             Chihuahua Shorthair Mix        White/Brown  \n",
       "2           1 year                             Raccoon               Gray  \n",
       "3         4 months  Anatol Shepherd/Labrador Retriever               Buff  \n",
       "4           6 days              Domestic Shorthair Mix       Orange Tabby  "
      ]
     },
     "execution_count": 27,
     "metadata": {},
     "output_type": "execute_result"
    }
   ],
   "source": [
    "animals_outcomes_df.head(5)"
   ]
  },
  {
   "cell_type": "code",
   "execution_count": 28,
   "metadata": {},
   "outputs": [
    {
     "data": {
      "text/html": [
       "<div>\n",
       "<style scoped>\n",
       "    .dataframe tbody tr th:only-of-type {\n",
       "        vertical-align: middle;\n",
       "    }\n",
       "\n",
       "    .dataframe tbody tr th {\n",
       "        vertical-align: top;\n",
       "    }\n",
       "\n",
       "    .dataframe thead th {\n",
       "        text-align: right;\n",
       "    }\n",
       "</style>\n",
       "<table border=\"1\" class=\"dataframe\">\n",
       "  <thead>\n",
       "    <tr style=\"text-align: right;\">\n",
       "      <th></th>\n",
       "      <th>Animal ID</th>\n",
       "      <th>Name</th>\n",
       "      <th>DateTime</th>\n",
       "      <th>MonthYear</th>\n",
       "      <th>Date of Birth</th>\n",
       "      <th>Outcome Type</th>\n",
       "      <th>Outcome Subtype</th>\n",
       "      <th>Animal Type</th>\n",
       "      <th>Sex upon Outcome</th>\n",
       "      <th>Age upon Outcome</th>\n",
       "      <th>Breed</th>\n",
       "      <th>Color</th>\n",
       "    </tr>\n",
       "  </thead>\n",
       "  <tbody>\n",
       "    <tr>\n",
       "      <th>94002</th>\n",
       "      <td>A700980</td>\n",
       "      <td>*Cassie</td>\n",
       "      <td>04/28/2015 12:00:00 AM</td>\n",
       "      <td>04/28/2015 12:00:00 AM</td>\n",
       "      <td>02/11/2015</td>\n",
       "      <td>Transfer</td>\n",
       "      <td>Partner</td>\n",
       "      <td>Dog</td>\n",
       "      <td>Spayed Female</td>\n",
       "      <td>2 months</td>\n",
       "      <td>Carolina Dog Mix</td>\n",
       "      <td>Tan</td>\n",
       "    </tr>\n",
       "    <tr>\n",
       "      <th>99085</th>\n",
       "      <td>A681632</td>\n",
       "      <td>*Clancy</td>\n",
       "      <td>07/22/2014 02:13:00 PM</td>\n",
       "      <td>07/22/2014 02:13:00 PM</td>\n",
       "      <td>06/19/2009</td>\n",
       "      <td>Adoption</td>\n",
       "      <td>NaN</td>\n",
       "      <td>Dog</td>\n",
       "      <td>Neutered Male</td>\n",
       "      <td>5 years</td>\n",
       "      <td>Chihuahua Shorthair Mix</td>\n",
       "      <td>Black/Brown</td>\n",
       "    </tr>\n",
       "    <tr>\n",
       "      <th>56737</th>\n",
       "      <td>A781895</td>\n",
       "      <td>*Ally</td>\n",
       "      <td>01/09/2019 12:28:00 PM</td>\n",
       "      <td>01/09/2019 12:28:00 PM</td>\n",
       "      <td>08/26/2018</td>\n",
       "      <td>Adoption</td>\n",
       "      <td>Foster</td>\n",
       "      <td>Cat</td>\n",
       "      <td>Spayed Female</td>\n",
       "      <td>4 months</td>\n",
       "      <td>Domestic Longhair Mix</td>\n",
       "      <td>Tortie</td>\n",
       "    </tr>\n",
       "    <tr>\n",
       "      <th>114967</th>\n",
       "      <td>A804032</td>\n",
       "      <td>*Puff</td>\n",
       "      <td>11/05/2019 07:59:00 AM</td>\n",
       "      <td>11/05/2019 07:59:00 AM</td>\n",
       "      <td>08/09/2019</td>\n",
       "      <td>Adoption</td>\n",
       "      <td>Foster</td>\n",
       "      <td>Cat</td>\n",
       "      <td>Spayed Female</td>\n",
       "      <td>2 months</td>\n",
       "      <td>Domestic Shorthair</td>\n",
       "      <td>Brown Tabby</td>\n",
       "    </tr>\n",
       "    <tr>\n",
       "      <th>71027</th>\n",
       "      <td>A726350</td>\n",
       "      <td>Rex</td>\n",
       "      <td>05/14/2016 02:01:00 PM</td>\n",
       "      <td>05/14/2016 02:01:00 PM</td>\n",
       "      <td>03/19/2016</td>\n",
       "      <td>Transfer</td>\n",
       "      <td>Partner</td>\n",
       "      <td>Cat</td>\n",
       "      <td>Intact Male</td>\n",
       "      <td>1 month</td>\n",
       "      <td>Snowshoe Mix</td>\n",
       "      <td>Lynx Point/White</td>\n",
       "    </tr>\n",
       "  </tbody>\n",
       "</table>\n",
       "</div>"
      ],
      "text/plain": [
       "       Animal ID     Name                DateTime               MonthYear  \\\n",
       "94002    A700980  *Cassie  04/28/2015 12:00:00 AM  04/28/2015 12:00:00 AM   \n",
       "99085    A681632  *Clancy  07/22/2014 02:13:00 PM  07/22/2014 02:13:00 PM   \n",
       "56737    A781895    *Ally  01/09/2019 12:28:00 PM  01/09/2019 12:28:00 PM   \n",
       "114967   A804032    *Puff  11/05/2019 07:59:00 AM  11/05/2019 07:59:00 AM   \n",
       "71027    A726350      Rex  05/14/2016 02:01:00 PM  05/14/2016 02:01:00 PM   \n",
       "\n",
       "       Date of Birth Outcome Type Outcome Subtype Animal Type  \\\n",
       "94002     02/11/2015     Transfer         Partner         Dog   \n",
       "99085     06/19/2009     Adoption             NaN         Dog   \n",
       "56737     08/26/2018     Adoption          Foster         Cat   \n",
       "114967    08/09/2019     Adoption          Foster         Cat   \n",
       "71027     03/19/2016     Transfer         Partner         Cat   \n",
       "\n",
       "       Sex upon Outcome Age upon Outcome                    Breed  \\\n",
       "94002     Spayed Female         2 months         Carolina Dog Mix   \n",
       "99085     Neutered Male          5 years  Chihuahua Shorthair Mix   \n",
       "56737     Spayed Female         4 months    Domestic Longhair Mix   \n",
       "114967    Spayed Female         2 months       Domestic Shorthair   \n",
       "71027       Intact Male          1 month             Snowshoe Mix   \n",
       "\n",
       "                   Color  \n",
       "94002                Tan  \n",
       "99085        Black/Brown  \n",
       "56737             Tortie  \n",
       "114967       Brown Tabby  \n",
       "71027   Lynx Point/White  "
      ]
     },
     "execution_count": 28,
     "metadata": {},
     "output_type": "execute_result"
    }
   ],
   "source": [
    "animals_outcomes_df.sample(5)"
   ]
  },
  {
   "cell_type": "markdown",
   "metadata": {},
   "source": [
    ">- **The 'Name' ,'Outcome Type' ,'Outcome Subtype'  columns have missing values, so lets try to fix them**"
   ]
  },
  {
   "cell_type": "markdown",
   "metadata": {},
   "source": [
    "**Again we can simply drop rows having missing values**"
   ]
  },
  {
   "cell_type": "code",
   "execution_count": 29,
   "metadata": {},
   "outputs": [
    {
     "data": {
      "text/plain": [
       "Animal ID               0\n",
       "Name                39025\n",
       "DateTime                0\n",
       "MonthYear               0\n",
       "Date of Birth           0\n",
       "Outcome Type           20\n",
       "Outcome Subtype     67183\n",
       "Animal Type             0\n",
       "Sex upon Outcome        1\n",
       "Age upon Outcome        5\n",
       "Breed                   0\n",
       "Color                   0\n",
       "dtype: int64"
      ]
     },
     "execution_count": 29,
     "metadata": {},
     "output_type": "execute_result"
    }
   ],
   "source": [
    "animals_outcomes_df.isna().sum()"
   ]
  },
  {
   "cell_type": "code",
   "execution_count": 30,
   "metadata": {},
   "outputs": [],
   "source": [
    "animals_outcomes_df.dropna(inplace=True)"
   ]
  },
  {
   "cell_type": "code",
   "execution_count": 31,
   "metadata": {},
   "outputs": [
    {
     "name": "stdout",
     "output_type": "stream",
     "text": [
      "<class 'pandas.core.frame.DataFrame'>\n",
      "Int64Index: 28630 entries, 6 to 124471\n",
      "Data columns (total 12 columns):\n",
      " #   Column            Non-Null Count  Dtype \n",
      "---  ------            --------------  ----- \n",
      " 0   Animal ID         28630 non-null  object\n",
      " 1   Name              28630 non-null  object\n",
      " 2   DateTime          28630 non-null  object\n",
      " 3   MonthYear         28630 non-null  object\n",
      " 4   Date of Birth     28630 non-null  object\n",
      " 5   Outcome Type      28630 non-null  object\n",
      " 6   Outcome Subtype   28630 non-null  object\n",
      " 7   Animal Type       28630 non-null  object\n",
      " 8   Sex upon Outcome  28630 non-null  object\n",
      " 9   Age upon Outcome  28630 non-null  object\n",
      " 10  Breed             28630 non-null  object\n",
      " 11  Color             28630 non-null  object\n",
      "dtypes: object(12)\n",
      "memory usage: 2.8+ MB\n"
     ]
    }
   ],
   "source": [
    "animals_outcomes_df.info()"
   ]
  },
  {
   "cell_type": "code",
   "execution_count": 32,
   "metadata": {},
   "outputs": [
    {
     "name": "stdout",
     "output_type": "stream",
     "text": [
      "<class 'pandas.core.frame.DataFrame'>\n",
      "Int64Index: 28630 entries, 6 to 124471\n",
      "Data columns (total 12 columns):\n",
      " #   Column            Non-Null Count  Dtype \n",
      "---  ------            --------------  ----- \n",
      " 0   Animal ID         28630 non-null  object\n",
      " 1   Name              28630 non-null  object\n",
      " 2   DateTime          28630 non-null  object\n",
      " 3   MonthYear         28630 non-null  object\n",
      " 4   Date of Birth     28630 non-null  object\n",
      " 5   Outcome Type      28630 non-null  object\n",
      " 6   Outcome Subtype   28630 non-null  object\n",
      " 7   Animal Type       28630 non-null  object\n",
      " 8   Sex upon Outcome  28630 non-null  object\n",
      " 9   Age upon Outcome  28630 non-null  object\n",
      " 10  Breed             28630 non-null  object\n",
      " 11  Color             28630 non-null  object\n",
      "dtypes: object(12)\n",
      "memory usage: 2.8+ MB\n"
     ]
    }
   ],
   "source": [
    "animals_outcomes_df.info()"
   ]
  },
  {
   "cell_type": "markdown",
   "metadata": {},
   "source": [
    ">- **Our third or last dataset is good to go!**"
   ]
  },
  {
   "cell_type": "code",
   "execution_count": 33,
   "metadata": {},
   "outputs": [
    {
     "name": "stdout",
     "output_type": "stream",
     "text": [
      "<class 'pandas.core.frame.DataFrame'>\n",
      "RangeIndex: 16 entries, 0 to 15\n",
      "Data columns (total 10 columns):\n",
      " #   Column          Non-Null Count  Dtype \n",
      "---  ------          --------------  ----- \n",
      " 0   Animal ID       16 non-null     object\n",
      " 1   Found Location  16 non-null     object\n",
      " 2   At AAC          16 non-null     object\n",
      " 3   Intake Date     16 non-null     object\n",
      " 4   Type            16 non-null     object\n",
      " 5   Looks Like      16 non-null     object\n",
      " 6   Color           16 non-null     object\n",
      " 7   Sex             16 non-null     object\n",
      " 8   Age             16 non-null     object\n",
      " 9   Image Link      16 non-null     object\n",
      "dtypes: object(10)\n",
      "memory usage: 1.4+ KB\n"
     ]
    }
   ],
   "source": [
    "animals_stray_map_df.info()"
   ]
  },
  {
   "cell_type": "code",
   "execution_count": 34,
   "metadata": {},
   "outputs": [
    {
     "data": {
      "text/html": [
       "<div>\n",
       "<style scoped>\n",
       "    .dataframe tbody tr th:only-of-type {\n",
       "        vertical-align: middle;\n",
       "    }\n",
       "\n",
       "    .dataframe tbody tr th {\n",
       "        vertical-align: top;\n",
       "    }\n",
       "\n",
       "    .dataframe thead th {\n",
       "        text-align: right;\n",
       "    }\n",
       "</style>\n",
       "<table border=\"1\" class=\"dataframe\">\n",
       "  <thead>\n",
       "    <tr style=\"text-align: right;\">\n",
       "      <th></th>\n",
       "      <th>Animal ID</th>\n",
       "      <th>Found Location</th>\n",
       "      <th>At AAC</th>\n",
       "      <th>Intake Date</th>\n",
       "      <th>Type</th>\n",
       "      <th>Looks Like</th>\n",
       "      <th>Color</th>\n",
       "      <th>Sex</th>\n",
       "      <th>Age</th>\n",
       "      <th>Image Link</th>\n",
       "    </tr>\n",
       "  </thead>\n",
       "  <tbody>\n",
       "    <tr>\n",
       "      <th>8</th>\n",
       "      <td>A829672</td>\n",
       "      <td>AUSTIN 78744\\n(30.186349, -97.738673)</td>\n",
       "      <td>Yes (come to the shelter)</td>\n",
       "      <td>02/20/2021</td>\n",
       "      <td>Dog</td>\n",
       "      <td>Doberman Pinsch</td>\n",
       "      <td>Black/Tan</td>\n",
       "      <td>Intact Female</td>\n",
       "      <td>6 months</td>\n",
       "      <td>http://www.petharbor.com/pet.asp?uaid=ASTN.A82...</td>\n",
       "    </tr>\n",
       "    <tr>\n",
       "      <th>0</th>\n",
       "      <td>A814119</td>\n",
       "      <td>11800 GREEN GROVE DRIVE\\nAUSTIN 78725\\n(30.221...</td>\n",
       "      <td>Yes (come to the shelter)</td>\n",
       "      <td>02/19/2021</td>\n",
       "      <td>Dog</td>\n",
       "      <td>Pit Bull</td>\n",
       "      <td>Brown Brindle</td>\n",
       "      <td>Neutered Male</td>\n",
       "      <td>3 years</td>\n",
       "      <td>http://www.petharbor.com/pet.asp?uaid=ASTN.A81...</td>\n",
       "    </tr>\n",
       "    <tr>\n",
       "      <th>3</th>\n",
       "      <td>A829713</td>\n",
       "      <td>10605 OLD LOCKHART ROAD\\nAUSTIN 78747\\n(30.128...</td>\n",
       "      <td>Yes (come to the shelter)</td>\n",
       "      <td>02/21/2021</td>\n",
       "      <td>Dog</td>\n",
       "      <td>Doberman Pinsch</td>\n",
       "      <td>Black/Tan</td>\n",
       "      <td>Intact Female</td>\n",
       "      <td>6 months</td>\n",
       "      <td>http://www.petharbor.com/pet.asp?uaid=ASTN.A82...</td>\n",
       "    </tr>\n",
       "    <tr>\n",
       "      <th>10</th>\n",
       "      <td>A829721</td>\n",
       "      <td>AUSTIN 78745\\n(30.206782, -97.798214)</td>\n",
       "      <td>Yes (come to the shelter)</td>\n",
       "      <td>02/22/2021</td>\n",
       "      <td>Dog</td>\n",
       "      <td>Toy Fox Terrier/Dachshund Longhair</td>\n",
       "      <td>Brown</td>\n",
       "      <td>Intact Male</td>\n",
       "      <td>2 years</td>\n",
       "      <td>http://www.petharbor.com/pet.asp?uaid=ASTN.A82...</td>\n",
       "    </tr>\n",
       "    <tr>\n",
       "      <th>12</th>\n",
       "      <td>A829726</td>\n",
       "      <td>4434 FRONTIER TRAIL\\nAUSTIN 78745\\n(30.23124, ...</td>\n",
       "      <td>Yes (come to the shelter)</td>\n",
       "      <td>02/22/2021</td>\n",
       "      <td>Dog</td>\n",
       "      <td>Rottweiler</td>\n",
       "      <td>Black/Brown</td>\n",
       "      <td>Intact Male</td>\n",
       "      <td>2 years</td>\n",
       "      <td>http://www.petharbor.com/pet.asp?uaid=ASTN.A82...</td>\n",
       "    </tr>\n",
       "  </tbody>\n",
       "</table>\n",
       "</div>"
      ],
      "text/plain": [
       "   Animal ID                                     Found Location  \\\n",
       "8    A829672              AUSTIN 78744\\n(30.186349, -97.738673)   \n",
       "0    A814119  11800 GREEN GROVE DRIVE\\nAUSTIN 78725\\n(30.221...   \n",
       "3    A829713  10605 OLD LOCKHART ROAD\\nAUSTIN 78747\\n(30.128...   \n",
       "10   A829721              AUSTIN 78745\\n(30.206782, -97.798214)   \n",
       "12   A829726  4434 FRONTIER TRAIL\\nAUSTIN 78745\\n(30.23124, ...   \n",
       "\n",
       "                       At AAC Intake Date Type  \\\n",
       "8   Yes (come to the shelter)  02/20/2021  Dog   \n",
       "0   Yes (come to the shelter)  02/19/2021  Dog   \n",
       "3   Yes (come to the shelter)  02/21/2021  Dog   \n",
       "10  Yes (come to the shelter)  02/22/2021  Dog   \n",
       "12  Yes (come to the shelter)  02/22/2021  Dog   \n",
       "\n",
       "                            Looks Like          Color            Sex  \\\n",
       "8                      Doberman Pinsch      Black/Tan  Intact Female   \n",
       "0                             Pit Bull  Brown Brindle  Neutered Male   \n",
       "3                      Doberman Pinsch      Black/Tan  Intact Female   \n",
       "10  Toy Fox Terrier/Dachshund Longhair          Brown    Intact Male   \n",
       "12                          Rottweiler    Black/Brown    Intact Male   \n",
       "\n",
       "         Age                                         Image Link  \n",
       "8   6 months  http://www.petharbor.com/pet.asp?uaid=ASTN.A82...  \n",
       "0    3 years  http://www.petharbor.com/pet.asp?uaid=ASTN.A81...  \n",
       "3   6 months  http://www.petharbor.com/pet.asp?uaid=ASTN.A82...  \n",
       "10   2 years  http://www.petharbor.com/pet.asp?uaid=ASTN.A82...  \n",
       "12   2 years  http://www.petharbor.com/pet.asp?uaid=ASTN.A82...  "
      ]
     },
     "execution_count": 34,
     "metadata": {},
     "output_type": "execute_result"
    }
   ],
   "source": [
    "animals_stray_map_df.sample(5)"
   ]
  },
  {
   "cell_type": "markdown",
   "metadata": {},
   "source": [
    "## Exploratory Analysis and Visualization\n",
    "\n",
    "**Let's visual the data to understand it even better.**\n",
    "\n"
   ]
  },
  {
   "cell_type": "markdown",
   "metadata": {},
   "source": [
    "**Let's begin by importing`matplotlib.pyplot` and `seaborn`.**"
   ]
  },
  {
   "cell_type": "code",
   "execution_count": 37,
   "metadata": {},
   "outputs": [],
   "source": [
    "import seaborn as sns\n",
    "import matplotlib\n",
    "import matplotlib.pyplot as plt\n",
    "%matplotlib inline\n",
    "\n",
    "sns.set_style('darkgrid')\n",
    "matplotlib.rcParams['font.size'] = 15\n",
    "matplotlib.rcParams['figure.figsize'] = (10, 5)\n",
    "matplotlib.rcParams['figure.facecolor'] = '#00000000'"
   ]
  },
  {
   "cell_type": "code",
   "execution_count": 38,
   "metadata": {},
   "outputs": [
    {
     "name": "stdout",
     "output_type": "stream",
     "text": [
      "<class 'pandas.core.frame.DataFrame'>\n",
      "Int64Index: 85068 entries, 0 to 124119\n",
      "Data columns (total 17 columns):\n",
      " #   Column            Non-Null Count  Dtype         \n",
      "---  ------            --------------  -----         \n",
      " 0   Animal ID         85068 non-null  object        \n",
      " 1   Name              85068 non-null  object        \n",
      " 2   DateTime          85068 non-null  object        \n",
      " 3   Found Location    85068 non-null  object        \n",
      " 4   Intake Type       85068 non-null  object        \n",
      " 5   Intake Condition  85068 non-null  object        \n",
      " 6   Animal Type       85068 non-null  object        \n",
      " 7   Sex upon Intake   85068 non-null  object        \n",
      " 8   Age upon Intake   85068 non-null  object        \n",
      " 9   Breed             85068 non-null  object        \n",
      " 10  Color             85068 non-null  object        \n",
      " 11  date              85068 non-null  datetime64[ns]\n",
      " 12  IntakeYear        85068 non-null  int64         \n",
      " 13  IntakeMonth       85068 non-null  int64         \n",
      " 14  IntakeDay         85068 non-null  int64         \n",
      " 15  IntakeWeekday     85068 non-null  int64         \n",
      " 16  IntakeHour        85068 non-null  int64         \n",
      "dtypes: datetime64[ns](1), int64(5), object(11)\n",
      "memory usage: 11.7+ MB\n"
     ]
    }
   ],
   "source": [
    "animals_intakes_df.info()"
   ]
  },
  {
   "cell_type": "code",
   "execution_count": 39,
   "metadata": {},
   "outputs": [
    {
     "data": {
      "text/html": [
       "<div>\n",
       "<style scoped>\n",
       "    .dataframe tbody tr th:only-of-type {\n",
       "        vertical-align: middle;\n",
       "    }\n",
       "\n",
       "    .dataframe tbody tr th {\n",
       "        vertical-align: top;\n",
       "    }\n",
       "\n",
       "    .dataframe thead th {\n",
       "        text-align: right;\n",
       "    }\n",
       "</style>\n",
       "<table border=\"1\" class=\"dataframe\">\n",
       "  <thead>\n",
       "    <tr style=\"text-align: right;\">\n",
       "      <th></th>\n",
       "      <th>Animal ID</th>\n",
       "      <th>Name</th>\n",
       "      <th>DateTime</th>\n",
       "      <th>Found Location</th>\n",
       "      <th>Intake Type</th>\n",
       "      <th>Intake Condition</th>\n",
       "      <th>Animal Type</th>\n",
       "      <th>Sex upon Intake</th>\n",
       "      <th>Age upon Intake</th>\n",
       "      <th>Breed</th>\n",
       "      <th>Color</th>\n",
       "      <th>date</th>\n",
       "      <th>IntakeYear</th>\n",
       "      <th>IntakeMonth</th>\n",
       "      <th>IntakeDay</th>\n",
       "      <th>IntakeWeekday</th>\n",
       "      <th>IntakeHour</th>\n",
       "    </tr>\n",
       "  </thead>\n",
       "  <tbody>\n",
       "    <tr>\n",
       "      <th>59260</th>\n",
       "      <td>A564082</td>\n",
       "      <td>Layla</td>\n",
       "      <td>09/12/2019 03:48:00 PM</td>\n",
       "      <td>Alsatia Drive And Currin Lane in Austin (TX)</td>\n",
       "      <td>Stray</td>\n",
       "      <td>Normal</td>\n",
       "      <td>Dog</td>\n",
       "      <td>Spayed Female</td>\n",
       "      <td>11 years</td>\n",
       "      <td>Pit Bull Mix</td>\n",
       "      <td>Brown Brindle/White</td>\n",
       "      <td>2019-09-12 15:48:00</td>\n",
       "      <td>2019</td>\n",
       "      <td>9</td>\n",
       "      <td>12</td>\n",
       "      <td>3</td>\n",
       "      <td>15</td>\n",
       "    </tr>\n",
       "    <tr>\n",
       "      <th>26803</th>\n",
       "      <td>A787081</td>\n",
       "      <td>Corazon</td>\n",
       "      <td>01/07/2019 01:10:00 PM</td>\n",
       "      <td>Austin (TX)</td>\n",
       "      <td>Owner Surrender</td>\n",
       "      <td>Normal</td>\n",
       "      <td>Cat</td>\n",
       "      <td>Intact Male</td>\n",
       "      <td>4 months</td>\n",
       "      <td>Domestic Shorthair Mix</td>\n",
       "      <td>Black</td>\n",
       "      <td>2019-01-07 13:10:00</td>\n",
       "      <td>2019</td>\n",
       "      <td>1</td>\n",
       "      <td>7</td>\n",
       "      <td>0</td>\n",
       "      <td>13</td>\n",
       "    </tr>\n",
       "    <tr>\n",
       "      <th>17597</th>\n",
       "      <td>A459845</td>\n",
       "      <td>Precious</td>\n",
       "      <td>05/05/2014 11:34:00 AM</td>\n",
       "      <td>12058 East Applegate Dr in Austin (TX)</td>\n",
       "      <td>Stray</td>\n",
       "      <td>Normal</td>\n",
       "      <td>Cat</td>\n",
       "      <td>Spayed Female</td>\n",
       "      <td>7 years</td>\n",
       "      <td>Snowshoe/Ragdoll</td>\n",
       "      <td>Seal Point/White</td>\n",
       "      <td>2014-05-05 11:34:00</td>\n",
       "      <td>2014</td>\n",
       "      <td>5</td>\n",
       "      <td>5</td>\n",
       "      <td>0</td>\n",
       "      <td>11</td>\n",
       "    </tr>\n",
       "    <tr>\n",
       "      <th>74966</th>\n",
       "      <td>A668790</td>\n",
       "      <td>*St. Nicks</td>\n",
       "      <td>12/18/2013 11:01:00 AM</td>\n",
       "      <td>Austin (TX)</td>\n",
       "      <td>Owner Surrender</td>\n",
       "      <td>Normal</td>\n",
       "      <td>Dog</td>\n",
       "      <td>Neutered Male</td>\n",
       "      <td>2 months</td>\n",
       "      <td>Australian Shepherd Mix</td>\n",
       "      <td>Tricolor</td>\n",
       "      <td>2013-12-18 11:01:00</td>\n",
       "      <td>2013</td>\n",
       "      <td>12</td>\n",
       "      <td>18</td>\n",
       "      <td>2</td>\n",
       "      <td>11</td>\n",
       "    </tr>\n",
       "    <tr>\n",
       "      <th>73942</th>\n",
       "      <td>A706219</td>\n",
       "      <td>George</td>\n",
       "      <td>06/26/2015 05:47:00 PM</td>\n",
       "      <td>Austin (TX)</td>\n",
       "      <td>Public Assist</td>\n",
       "      <td>Normal</td>\n",
       "      <td>Dog</td>\n",
       "      <td>Intact Male</td>\n",
       "      <td>5 months</td>\n",
       "      <td>Pit Bull Mix</td>\n",
       "      <td>Brown Brindle/White</td>\n",
       "      <td>2015-06-26 17:47:00</td>\n",
       "      <td>2015</td>\n",
       "      <td>6</td>\n",
       "      <td>26</td>\n",
       "      <td>4</td>\n",
       "      <td>17</td>\n",
       "    </tr>\n",
       "  </tbody>\n",
       "</table>\n",
       "</div>"
      ],
      "text/plain": [
       "      Animal ID        Name                DateTime  \\\n",
       "59260   A564082       Layla  09/12/2019 03:48:00 PM   \n",
       "26803   A787081     Corazon  01/07/2019 01:10:00 PM   \n",
       "17597   A459845    Precious  05/05/2014 11:34:00 AM   \n",
       "74966   A668790  *St. Nicks  12/18/2013 11:01:00 AM   \n",
       "73942   A706219      George  06/26/2015 05:47:00 PM   \n",
       "\n",
       "                                     Found Location      Intake Type  \\\n",
       "59260  Alsatia Drive And Currin Lane in Austin (TX)            Stray   \n",
       "26803                                   Austin (TX)  Owner Surrender   \n",
       "17597        12058 East Applegate Dr in Austin (TX)            Stray   \n",
       "74966                                   Austin (TX)  Owner Surrender   \n",
       "73942                                   Austin (TX)    Public Assist   \n",
       "\n",
       "      Intake Condition Animal Type Sex upon Intake Age upon Intake  \\\n",
       "59260           Normal         Dog   Spayed Female        11 years   \n",
       "26803           Normal         Cat     Intact Male        4 months   \n",
       "17597           Normal         Cat   Spayed Female         7 years   \n",
       "74966           Normal         Dog   Neutered Male        2 months   \n",
       "73942           Normal         Dog     Intact Male        5 months   \n",
       "\n",
       "                         Breed                Color                date  \\\n",
       "59260             Pit Bull Mix  Brown Brindle/White 2019-09-12 15:48:00   \n",
       "26803   Domestic Shorthair Mix                Black 2019-01-07 13:10:00   \n",
       "17597         Snowshoe/Ragdoll     Seal Point/White 2014-05-05 11:34:00   \n",
       "74966  Australian Shepherd Mix             Tricolor 2013-12-18 11:01:00   \n",
       "73942             Pit Bull Mix  Brown Brindle/White 2015-06-26 17:47:00   \n",
       "\n",
       "       IntakeYear  IntakeMonth  IntakeDay  IntakeWeekday  IntakeHour  \n",
       "59260        2019            9         12              3          15  \n",
       "26803        2019            1          7              0          13  \n",
       "17597        2014            5          5              0          11  \n",
       "74966        2013           12         18              2          11  \n",
       "73942        2015            6         26              4          17  "
      ]
     },
     "execution_count": 39,
     "metadata": {},
     "output_type": "execute_result"
    }
   ],
   "source": [
    "animals_intakes_df.sample(5)"
   ]
  },
  {
   "cell_type": "code",
   "execution_count": 40,
   "metadata": {},
   "outputs": [
    {
     "data": {
      "text/plain": [
       "array(['Stray', 'Owner Surrender', 'Public Assist', 'Euthanasia Request',\n",
       "       'Abandoned', 'Wildlife'], dtype=object)"
      ]
     },
     "execution_count": 40,
     "metadata": {},
     "output_type": "execute_result"
    }
   ],
   "source": [
    "animals_intakes_df['Intake Type'].unique()"
   ]
  },
  {
   "cell_type": "code",
   "execution_count": 41,
   "metadata": {},
   "outputs": [
    {
     "data": {
      "text/plain": [
       "Intake Type\n",
       "Abandoned               183\n",
       "Euthanasia Request      234\n",
       "Owner Surrender       22053\n",
       "Public Assist          6809\n",
       "Stray                 55755\n",
       "Wildlife                 34\n",
       "Name: Intake Type, dtype: int64"
      ]
     },
     "execution_count": 41,
     "metadata": {},
     "output_type": "execute_result"
    }
   ],
   "source": [
    "intake_df = animals_intakes_df.groupby(by=animals_intakes_df['Intake Type'])\n",
    "intake_df = intake_df['Intake Type'].count()\n",
    "intake_df"
   ]
  },
  {
   "cell_type": "code",
   "execution_count": 42,
   "metadata": {},
   "outputs": [
    {
     "data": {
      "image/png": "[encoded data removed]",
      "text/plain": [
       "<Figure size 720x360 with 1 Axes>"
      ]
     },
     "metadata": {
      "needs_background": "light"
     },
     "output_type": "display_data"
    }
   ],
   "source": [
    "sns.barplot(y=intake_df.index, x=intake_df.values/1000)\n",
    "#sns.lineplot(y=intake_df.index,x=intake_df.values/1000)\n",
    "plt.xlabel('Intake Counts per 1000')\n",
    "plt.title('Reasons for which animals were taken in ');"
   ]
  },
  {
   "cell_type": "markdown",
   "metadata": {},
   "source": [
    ">- **From above plot we observe that most animals around 50k+ that were taken in by the shelter were strays, after that approximately 20k animals were surrenderd by their owners.**"
   ]
  },
  {
   "cell_type": "code",
   "execution_count": 43,
   "metadata": {},
   "outputs": [
    {
     "data": {
      "text/plain": [
       "array(['Neutered Male', 'Spayed Female', 'Intact Male', 'Intact Female',\n",
       "       'Unknown'], dtype=object)"
      ]
     },
     "execution_count": 43,
     "metadata": {},
     "output_type": "execute_result"
    }
   ],
   "source": [
    "animals_intakes_df['Animal Type'].unique()\n",
    "animals_intakes_df['Sex upon Intake'].unique()\n",
    "\n"
   ]
  },
  {
   "cell_type": "code",
   "execution_count": 44,
   "metadata": {},
   "outputs": [
    {
     "data": {
      "text/plain": [
       "Animal Type\n",
       "Bird           126\n",
       "Cat          25745\n",
       "Dog          58366\n",
       "Livestock        2\n",
       "Other          829\n",
       "Name: Animal Type, dtype: int64"
      ]
     },
     "execution_count": 44,
     "metadata": {},
     "output_type": "execute_result"
    }
   ],
   "source": [
    "animals_type_df = animals_intakes_df.groupby('Animal Type') \n",
    "animals_type_df = animals_type_df['Animal Type'].count()\n",
    "animals_type_df"
   ]
  },
  {
   "cell_type": "code",
   "execution_count": 45,
   "metadata": {},
   "outputs": [],
   "source": [
    "a = list(animals_type_df.index)"
   ]
  },
  {
   "cell_type": "code",
   "execution_count": 46,
   "metadata": {},
   "outputs": [
    {
     "data": {
      "text/plain": [
       "[126, 25745, 58366, 2, 829]"
      ]
     },
     "execution_count": 46,
     "metadata": {},
     "output_type": "execute_result"
    }
   ],
   "source": [
    "b = list(animals_type_df.values)\n",
    "b"
   ]
  },
  {
   "cell_type": "code",
   "execution_count": 47,
   "metadata": {},
   "outputs": [
    {
     "name": "stdout",
     "output_type": "stream",
     "text": [
      "0.15%\n"
     ]
    },
    {
     "data": {
      "text/plain": [
       "{'Bird': '0.15%',\n",
       " 'Cat': '30.26%',\n",
       " 'Dog': '68.61%',\n",
       " 'Livestock': '0.00%',\n",
       " 'Other': '0.97%'}"
      ]
     },
     "execution_count": 47,
     "metadata": {},
     "output_type": "execute_result"
    }
   ],
   "source": [
    "import math\n",
    "from functools import reduce\n",
    "m =  reduce(lambda p,q:p+q, b)\n",
    "n = list(map(lambda x:(x/m)*100 , b))\n",
    "#n = list(map(lambda x:(x), n))\n",
    "print(\"{0:.2f}%\".format(n[0]))\n",
    "\n",
    "perc_dict = {}\n",
    "\n",
    "for i,j in zip(animals_type_df.index,n):\n",
    "    perc_dict[i] = \"{0:.2f}%\".format(j)\n",
    "perc_dict "
   ]
  },
  {
   "cell_type": "code",
   "execution_count": 48,
   "metadata": {},
   "outputs": [
    {
     "data": {
      "image/png": "[encoded data removed]",
      "text/plain": [
       "<Figure size 720x360 with 1 Axes>"
      ]
     },
     "metadata": {},
     "output_type": "display_data"
    }
   ],
   "source": [
    "#plt.figure(figsize=(14,8))\n",
    "plt.pie(b,explode=None,shadow=True, startangle=90)\n",
    "plt.legend(perc_dict.items(),loc='upper right',bbox_to_anchor=(0, 1))\n",
    "plt.tight_layout()"
   ]
  },
  {
   "cell_type": "markdown",
   "metadata": {},
   "source": [
    ">- **Most animals at the shelter are domestic animals like cats & dogs, some are livestocks and some exotic species like birds.**"
   ]
  },
  {
   "cell_type": "code",
   "execution_count": 49,
   "metadata": {},
   "outputs": [
    {
     "data": {
      "text/plain": [
       "Sex upon Intake\n",
       "Intact Female    24612\n",
       "Intact Male      27055\n",
       "Neutered Male    17757\n",
       "Spayed Female    15302\n",
       "Unknown            342\n",
       "Name: Sex upon Intake, dtype: int64"
      ]
     },
     "execution_count": 49,
     "metadata": {},
     "output_type": "execute_result"
    }
   ],
   "source": [
    "animals_sex_type_df = animals_intakes_df.groupby('Sex upon Intake') \n",
    "animals_sex_type_df = animals_sex_type_df['Sex upon Intake'].count()\n",
    "animals_sex_type_df"
   ]
  },
  {
   "cell_type": "code",
   "execution_count": 50,
   "metadata": {},
   "outputs": [],
   "source": [
    "animals_intaketype_list = animals_intakes_df['Intake Type'].unique() \n",
    "animals_intaketype_list = list(animals_intaketype_list)"
   ]
  },
  {
   "cell_type": "code",
   "execution_count": 51,
   "metadata": {},
   "outputs": [],
   "source": [
    "def plot_conditons(conditions):\n",
    "    legend_lst = []\n",
    "    \n",
    "    for i in conditions:\n",
    "        animals_condition_df = animals_intakes_df[animals_intakes_df['Intake Type'] == i].groupby('Intake Condition')\n",
    "        print(i , animals_condition_df['Intake Condition'].count())\n",
    "    \n",
    "        animals_condition_df = animals_condition_df['Intake Condition'].count()\n",
    "        plt.bar(animals_condition_df.index,animals_condition_df.values/1000)\n",
    "        legend_lst.append(i)\n",
    "    \n",
    "    plt.xticks(rotation=75)\n",
    "    plt.legend(legend_lst)\n",
    "    plt.xlabel('Conditons in which animals were taken In')\n",
    "    plt.ylabel('Count of Animals')\n",
    "    plt.title('Distribution showing the reasons and conditions when an animal was taken In')"
   ]
  },
  {
   "cell_type": "code",
   "execution_count": 52,
   "metadata": {},
   "outputs": [
    {
     "name": "stdout",
     "output_type": "stream",
     "text": [
      "Stray Intake Condition\n",
      "Aged          219\n",
      "Behavior        6\n",
      "Feral          28\n",
      "Injured      3001\n",
      "Medical        30\n",
      "Normal      50292\n",
      "Nursing       962\n",
      "Other          87\n",
      "Pregnant       28\n",
      "Sick         1102\n",
      "Name: Intake Condition, dtype: int64\n",
      "Owner Surrender Intake Condition\n",
      "Aged           93\n",
      "Behavior       10\n",
      "Feral           9\n",
      "Injured       425\n",
      "Medical        15\n",
      "Normal      20599\n",
      "Nursing       143\n",
      "Other          39\n",
      "Pregnant       12\n",
      "Sick          708\n",
      "Name: Intake Condition, dtype: int64\n",
      "Public Assist Intake Condition\n",
      "Aged          31\n",
      "Behavior       4\n",
      "Feral          1\n",
      "Injured      142\n",
      "Normal      6437\n",
      "Nursing       43\n",
      "Other         34\n",
      "Pregnant       6\n",
      "Sick         111\n",
      "Name: Intake Condition, dtype: int64\n",
      "Euthanasia Request Intake Condition\n",
      "Aged       41\n",
      "Injured    16\n",
      "Normal     83\n",
      "Other       1\n",
      "Sick       93\n",
      "Name: Intake Condition, dtype: int64\n",
      "Abandoned Intake Condition\n",
      "Injured      1\n",
      "Medical      2\n",
      "Normal     170\n",
      "Nursing      7\n",
      "Sick         3\n",
      "Name: Intake Condition, dtype: int64\n",
      "Wildlife Intake Condition\n",
      "Injured     2\n",
      "Normal     23\n",
      "Sick        9\n",
      "Name: Intake Condition, dtype: int64\n"
     ]
    },
    {
     "data": {
      "image/png": "[encoded data removed]",
      "text/plain": [
       "<Figure size 720x360 with 1 Axes>"
      ]
     },
     "metadata": {
      "needs_background": "light"
     },
     "output_type": "display_data"
    }
   ],
   "source": [
    "plot_conditons(animals_intaketype_list)"
   ]
  },
  {
   "cell_type": "markdown",
   "metadata": {},
   "source": [
    "> - **We can easily infer from the above plot that many animals that were taken in by the shelter were normal, very few of them are sick or injured also we can see that majority of pet owners surrendered their pets to shelter due to personal reasons, not good :( !**"
   ]
  },
  {
   "cell_type": "code",
   "execution_count": 53,
   "metadata": {},
   "outputs": [
    {
     "data": {
      "text/html": [
       "<div>\n",
       "<style scoped>\n",
       "    .dataframe tbody tr th:only-of-type {\n",
       "        vertical-align: middle;\n",
       "    }\n",
       "\n",
       "    .dataframe tbody tr th {\n",
       "        vertical-align: top;\n",
       "    }\n",
       "\n",
       "    .dataframe thead th {\n",
       "        text-align: right;\n",
       "    }\n",
       "</style>\n",
       "<table border=\"1\" class=\"dataframe\">\n",
       "  <thead>\n",
       "    <tr style=\"text-align: right;\">\n",
       "      <th></th>\n",
       "      <th>Animal ID</th>\n",
       "      <th>Name</th>\n",
       "      <th>DateTime</th>\n",
       "      <th>Found Location</th>\n",
       "      <th>Intake Type</th>\n",
       "      <th>Intake Condition</th>\n",
       "      <th>Animal Type</th>\n",
       "      <th>Sex upon Intake</th>\n",
       "      <th>Age upon Intake</th>\n",
       "      <th>Breed</th>\n",
       "      <th>Color</th>\n",
       "      <th>date</th>\n",
       "      <th>IntakeYear</th>\n",
       "      <th>IntakeMonth</th>\n",
       "      <th>IntakeDay</th>\n",
       "      <th>IntakeWeekday</th>\n",
       "      <th>IntakeHour</th>\n",
       "    </tr>\n",
       "  </thead>\n",
       "  <tbody>\n",
       "    <tr>\n",
       "      <th>97155</th>\n",
       "      <td>A740994</td>\n",
       "      <td>Buddy</td>\n",
       "      <td>12/26/2016 03:13:00 PM</td>\n",
       "      <td>Austin (TX)</td>\n",
       "      <td>Owner Surrender</td>\n",
       "      <td>Normal</td>\n",
       "      <td>Dog</td>\n",
       "      <td>Neutered Male</td>\n",
       "      <td>1 year</td>\n",
       "      <td>Rat Terrier/Chihuahua Shorthair</td>\n",
       "      <td>White/Black</td>\n",
       "      <td>2016-12-26 15:13:00</td>\n",
       "      <td>2016</td>\n",
       "      <td>12</td>\n",
       "      <td>26</td>\n",
       "      <td>0</td>\n",
       "      <td>15</td>\n",
       "    </tr>\n",
       "    <tr>\n",
       "      <th>57886</th>\n",
       "      <td>A797895</td>\n",
       "      <td>Mothra</td>\n",
       "      <td>06/19/2019 10:22:00 AM</td>\n",
       "      <td>Austin (TX)</td>\n",
       "      <td>Owner Surrender</td>\n",
       "      <td>Normal</td>\n",
       "      <td>Bird</td>\n",
       "      <td>Intact Female</td>\n",
       "      <td>8 years</td>\n",
       "      <td>Dove</td>\n",
       "      <td>Gray/White</td>\n",
       "      <td>2019-06-19 10:22:00</td>\n",
       "      <td>2019</td>\n",
       "      <td>6</td>\n",
       "      <td>19</td>\n",
       "      <td>2</td>\n",
       "      <td>10</td>\n",
       "    </tr>\n",
       "    <tr>\n",
       "      <th>49002</th>\n",
       "      <td>A790413</td>\n",
       "      <td>Coco</td>\n",
       "      <td>03/09/2019 06:12:00 PM</td>\n",
       "      <td>183 And Mcneil in Austin (TX)</td>\n",
       "      <td>Stray</td>\n",
       "      <td>Normal</td>\n",
       "      <td>Dog</td>\n",
       "      <td>Intact Female</td>\n",
       "      <td>1 year</td>\n",
       "      <td>English Bulldog</td>\n",
       "      <td>Chocolate/White</td>\n",
       "      <td>2019-03-09 18:12:00</td>\n",
       "      <td>2019</td>\n",
       "      <td>3</td>\n",
       "      <td>9</td>\n",
       "      <td>5</td>\n",
       "      <td>18</td>\n",
       "    </tr>\n",
       "    <tr>\n",
       "      <th>30850</th>\n",
       "      <td>A672458</td>\n",
       "      <td>Kilo</td>\n",
       "      <td>02/13/2014 06:51:00 PM</td>\n",
       "      <td>9300 Collinfield in Austin (TX)</td>\n",
       "      <td>Public Assist</td>\n",
       "      <td>Normal</td>\n",
       "      <td>Dog</td>\n",
       "      <td>Intact Male</td>\n",
       "      <td>2 years</td>\n",
       "      <td>Dogo Argentino</td>\n",
       "      <td>White</td>\n",
       "      <td>2014-02-13 18:51:00</td>\n",
       "      <td>2014</td>\n",
       "      <td>2</td>\n",
       "      <td>13</td>\n",
       "      <td>3</td>\n",
       "      <td>18</td>\n",
       "    </tr>\n",
       "    <tr>\n",
       "      <th>1607</th>\n",
       "      <td>A733783</td>\n",
       "      <td>Kevin</td>\n",
       "      <td>08/27/2016 09:58:00 AM</td>\n",
       "      <td>Travis (TX)</td>\n",
       "      <td>Owner Surrender</td>\n",
       "      <td>Normal</td>\n",
       "      <td>Dog</td>\n",
       "      <td>Intact Male</td>\n",
       "      <td>1 year</td>\n",
       "      <td>Labrador Retriever Mix</td>\n",
       "      <td>Black</td>\n",
       "      <td>2016-08-27 09:58:00</td>\n",
       "      <td>2016</td>\n",
       "      <td>8</td>\n",
       "      <td>27</td>\n",
       "      <td>5</td>\n",
       "      <td>9</td>\n",
       "    </tr>\n",
       "  </tbody>\n",
       "</table>\n",
       "</div>"
      ],
      "text/plain": [
       "      Animal ID    Name                DateTime  \\\n",
       "97155   A740994   Buddy  12/26/2016 03:13:00 PM   \n",
       "57886   A797895  Mothra  06/19/2019 10:22:00 AM   \n",
       "49002   A790413    Coco  03/09/2019 06:12:00 PM   \n",
       "30850   A672458    Kilo  02/13/2014 06:51:00 PM   \n",
       "1607    A733783   Kevin  08/27/2016 09:58:00 AM   \n",
       "\n",
       "                        Found Location      Intake Type Intake Condition  \\\n",
       "97155                      Austin (TX)  Owner Surrender           Normal   \n",
       "57886                      Austin (TX)  Owner Surrender           Normal   \n",
       "49002    183 And Mcneil in Austin (TX)            Stray           Normal   \n",
       "30850  9300 Collinfield in Austin (TX)    Public Assist           Normal   \n",
       "1607                       Travis (TX)  Owner Surrender           Normal   \n",
       "\n",
       "      Animal Type Sex upon Intake Age upon Intake  \\\n",
       "97155         Dog   Neutered Male          1 year   \n",
       "57886        Bird   Intact Female         8 years   \n",
       "49002         Dog   Intact Female          1 year   \n",
       "30850         Dog     Intact Male         2 years   \n",
       "1607          Dog     Intact Male          1 year   \n",
       "\n",
       "                                 Breed            Color                date  \\\n",
       "97155  Rat Terrier/Chihuahua Shorthair      White/Black 2016-12-26 15:13:00   \n",
       "57886                             Dove       Gray/White 2019-06-19 10:22:00   \n",
       "49002                  English Bulldog  Chocolate/White 2019-03-09 18:12:00   \n",
       "30850                   Dogo Argentino            White 2014-02-13 18:51:00   \n",
       "1607            Labrador Retriever Mix            Black 2016-08-27 09:58:00   \n",
       "\n",
       "       IntakeYear  IntakeMonth  IntakeDay  IntakeWeekday  IntakeHour  \n",
       "97155        2016           12         26              0          15  \n",
       "57886        2019            6         19              2          10  \n",
       "49002        2019            3          9              5          18  \n",
       "30850        2014            2         13              3          18  \n",
       "1607         2016            8         27              5           9  "
      ]
     },
     "execution_count": 53,
     "metadata": {},
     "output_type": "execute_result"
    }
   ],
   "source": [
    "animals_intakes_df.sample(5)"
   ]
  },
  {
   "cell_type": "code",
   "execution_count": 54,
   "metadata": {},
   "outputs": [
    {
     "data": {
      "text/plain": [
       "array([2013, 2014, 2015, 2016, 2017, 2018, 2019, 2020, 2021], dtype=int64)"
      ]
     },
     "execution_count": 54,
     "metadata": {},
     "output_type": "execute_result"
    }
   ],
   "source": [
    "animals_intakes_df['IntakeYear'].unique()\n",
    "np.sort(animals_intakes_df['IntakeYear'].unique())"
   ]
  },
  {
   "cell_type": "code",
   "execution_count": 55,
   "metadata": {},
   "outputs": [],
   "source": [
    "# a_13 = animals_intakes_df[animals_intakes_df['IntakeYear'] == 2020]"
   ]
  },
  {
   "cell_type": "code",
   "execution_count": 56,
   "metadata": {},
   "outputs": [],
   "source": [
    "#a_13.groupby(by=['IntakeMonth']).count()"
   ]
  },
  {
   "cell_type": "markdown",
   "metadata": {},
   "source": [
    ">- **We can leave the years 2013 and 2021, as our dataset contains information from the month of October 2013 to March 2021, so it will be good if analyze full yearly data only.**"
   ]
  },
  {
   "cell_type": "code",
   "execution_count": 57,
   "metadata": {},
   "outputs": [
    {
     "data": {
      "text/plain": [
       "[2014, 2015, 2016, 2017, 2018, 2019, 2020]"
      ]
     },
     "execution_count": 57,
     "metadata": {},
     "output_type": "execute_result"
    }
   ],
   "source": [
    "intake_year_list = list(np.sort(animals_intakes_df['IntakeYear'].unique()))\n",
    "intake_year_list.pop(0)\n",
    "intake_year_list.pop(-1)\n",
    "intake_year_list"
   ]
  },
  {
   "cell_type": "markdown",
   "metadata": {},
   "source": [
    "> - **We can plot a heatmap to see yearly trends, for that we need to create a dataframe that is something like this**\n",
    "\n",
    "                                    year   month   values\n",
    "                                    2020\tAug\t  561\n",
    "                                \t2020\tSep\t  575\n",
    "                                \t2020\tOct\t  579\n",
    "                                \t2020\tNov\t  412\n",
    "                                \t2020\tDec\t  449\n"
   ]
  },
  {
   "cell_type": "code",
   "execution_count": 58,
   "metadata": {},
   "outputs": [
    {
     "data": {
      "text/html": [
       "<div>\n",
       "<style scoped>\n",
       "    .dataframe tbody tr th:only-of-type {\n",
       "        vertical-align: middle;\n",
       "    }\n",
       "\n",
       "    .dataframe tbody tr th {\n",
       "        vertical-align: top;\n",
       "    }\n",
       "\n",
       "    .dataframe thead th {\n",
       "        text-align: right;\n",
       "    }\n",
       "</style>\n",
       "<table border=\"1\" class=\"dataframe\">\n",
       "  <thead>\n",
       "    <tr style=\"text-align: right;\">\n",
       "      <th></th>\n",
       "      <th>year</th>\n",
       "      <th>month</th>\n",
       "      <th>values</th>\n",
       "    </tr>\n",
       "  </thead>\n",
       "  <tbody>\n",
       "    <tr>\n",
       "      <th>0</th>\n",
       "      <td>2014</td>\n",
       "      <td>Jan</td>\n",
       "      <td>984</td>\n",
       "    </tr>\n",
       "    <tr>\n",
       "      <th>1</th>\n",
       "      <td>2014</td>\n",
       "      <td>Feb</td>\n",
       "      <td>880</td>\n",
       "    </tr>\n",
       "    <tr>\n",
       "      <th>2</th>\n",
       "      <td>2014</td>\n",
       "      <td>Mar</td>\n",
       "      <td>955</td>\n",
       "    </tr>\n",
       "    <tr>\n",
       "      <th>3</th>\n",
       "      <td>2014</td>\n",
       "      <td>Apr</td>\n",
       "      <td>1012</td>\n",
       "    </tr>\n",
       "    <tr>\n",
       "      <th>4</th>\n",
       "      <td>2014</td>\n",
       "      <td>May</td>\n",
       "      <td>1249</td>\n",
       "    </tr>\n",
       "  </tbody>\n",
       "</table>\n",
       "</div>"
      ],
      "text/plain": [
       "   year month  values\n",
       "0  2014   Jan     984\n",
       "1  2014   Feb     880\n",
       "2  2014   Mar     955\n",
       "3  2014   Apr    1012\n",
       "4  2014   May    1249"
      ]
     },
     "execution_count": 58,
     "metadata": {},
     "output_type": "execute_result"
    }
   ],
   "source": [
    "import calendar\n",
    "yearly_df = pd.DataFrame()\n",
    "\n",
    "df_dict = { 'year'  : [],\n",
    "            'month' : [],\n",
    "           'values' : []\n",
    "            }\n",
    "\n",
    "for i in intake_year_list:\n",
    "    temp_year_df  =  animals_intakes_df[animals_intakes_df['IntakeYear'] == i]\n",
    "    temp_month_df = temp_year_df.groupby('IntakeMonth').count()\n",
    "\n",
    "    for p,q in zip((temp_month_df['Name'].index), (temp_month_df['Name'].values)):\n",
    "        p = calendar.month_abbr[p]\n",
    "        \n",
    "        df_dict['year'].append(i)\n",
    "        df_dict['month'].append(p)\n",
    "        df_dict['values'].append(q)\n",
    "\n",
    "        yearly_df = pd.DataFrame(data=df_dict, )\n",
    "        \n",
    "yearly_df.head()"
   ]
  },
  {
   "cell_type": "code",
   "execution_count": 59,
   "metadata": {},
   "outputs": [],
   "source": [
    "yearly_df = yearly_df.pivot('month', 'year', 'values') "
   ]
  },
  {
   "cell_type": "code",
   "execution_count": 60,
   "metadata": {},
   "outputs": [
    {
     "data": {
      "image/png": "[encoded data removed]",
      "text/plain": [
       "<Figure size 720x360 with 2 Axes>"
      ]
     },
     "metadata": {
      "needs_background": "light"
     },
     "output_type": "display_data"
    }
   ],
   "source": [
    "sns.heatmap(yearly_df,cmap='Greens');"
   ]
  },
  {
   "cell_type": "markdown",
   "metadata": {},
   "source": [
    "> - **From the above heatmap, it is clear that around the months July & July, animals are being taken in large numbers from year 2014 to 2019 and during the month of may for the year 2014 to 2019 ,the shelter is heavily taking animals let it be stray, abandonded, surrenderd.**\n",
    "\n",
    ">- **The shelter is least active in the year 2020 and that's maybe due to spread of covid-19, the staff must be working on limited workforce.**"
   ]
  },
  {
   "cell_type": "code",
   "execution_count": 61,
   "metadata": {},
   "outputs": [
    {
     "data": {
      "text/html": [
       "<div>\n",
       "<style scoped>\n",
       "    .dataframe tbody tr th:only-of-type {\n",
       "        vertical-align: middle;\n",
       "    }\n",
       "\n",
       "    .dataframe tbody tr th {\n",
       "        vertical-align: top;\n",
       "    }\n",
       "\n",
       "    .dataframe thead th {\n",
       "        text-align: right;\n",
       "    }\n",
       "</style>\n",
       "<table border=\"1\" class=\"dataframe\">\n",
       "  <thead>\n",
       "    <tr style=\"text-align: right;\">\n",
       "      <th></th>\n",
       "      <th>Animal ID</th>\n",
       "      <th>Name</th>\n",
       "      <th>DateTime</th>\n",
       "      <th>MonthYear</th>\n",
       "      <th>Date of Birth</th>\n",
       "      <th>Outcome Type</th>\n",
       "      <th>Outcome Subtype</th>\n",
       "      <th>Animal Type</th>\n",
       "      <th>Sex upon Outcome</th>\n",
       "      <th>Age upon Outcome</th>\n",
       "      <th>Breed</th>\n",
       "      <th>Color</th>\n",
       "    </tr>\n",
       "  </thead>\n",
       "  <tbody>\n",
       "    <tr>\n",
       "      <th>6</th>\n",
       "      <td>A814515</td>\n",
       "      <td>Quentin</td>\n",
       "      <td>05/06/2020 07:59:00 AM</td>\n",
       "      <td>05/06/2020 07:59:00 AM</td>\n",
       "      <td>03/01/2018</td>\n",
       "      <td>Adoption</td>\n",
       "      <td>Foster</td>\n",
       "      <td>Dog</td>\n",
       "      <td>Neutered Male</td>\n",
       "      <td>2 years</td>\n",
       "      <td>American Foxhound/Labrador Retriever</td>\n",
       "      <td>White/Brown</td>\n",
       "    </tr>\n",
       "    <tr>\n",
       "      <th>12</th>\n",
       "      <td>A803149</td>\n",
       "      <td>*Birch</td>\n",
       "      <td>08/31/2019 04:26:00 PM</td>\n",
       "      <td>08/31/2019 04:26:00 PM</td>\n",
       "      <td>08/08/2019</td>\n",
       "      <td>Transfer</td>\n",
       "      <td>Partner</td>\n",
       "      <td>Cat</td>\n",
       "      <td>Intact Male</td>\n",
       "      <td>3 weeks</td>\n",
       "      <td>Domestic Shorthair</td>\n",
       "      <td>Brown Tabby</td>\n",
       "    </tr>\n",
       "    <tr>\n",
       "      <th>13</th>\n",
       "      <td>A698049</td>\n",
       "      <td>Luigi</td>\n",
       "      <td>03/16/2015 02:50:00 PM</td>\n",
       "      <td>03/16/2015 02:50:00 PM</td>\n",
       "      <td>06/05/2014</td>\n",
       "      <td>Transfer</td>\n",
       "      <td>Partner</td>\n",
       "      <td>Cat</td>\n",
       "      <td>Spayed Female</td>\n",
       "      <td>9 months</td>\n",
       "      <td>Domestic Medium Hair Mix</td>\n",
       "      <td>Black/White</td>\n",
       "    </tr>\n",
       "    <tr>\n",
       "      <th>17</th>\n",
       "      <td>A765349</td>\n",
       "      <td>Einstein</td>\n",
       "      <td>06/08/2018 01:04:00 PM</td>\n",
       "      <td>06/08/2018 01:04:00 PM</td>\n",
       "      <td>01/18/2009</td>\n",
       "      <td>Adoption</td>\n",
       "      <td>Foster</td>\n",
       "      <td>Dog</td>\n",
       "      <td>Neutered Male</td>\n",
       "      <td>9 years</td>\n",
       "      <td>Chihuahua Shorthair Mix</td>\n",
       "      <td>Tricolor</td>\n",
       "    </tr>\n",
       "    <tr>\n",
       "      <th>18</th>\n",
       "      <td>A760697</td>\n",
       "      <td>Star</td>\n",
       "      <td>10/26/2017 03:22:00 PM</td>\n",
       "      <td>10/26/2017 03:22:00 PM</td>\n",
       "      <td>10/23/2007</td>\n",
       "      <td>Transfer</td>\n",
       "      <td>Partner</td>\n",
       "      <td>Dog</td>\n",
       "      <td>Intact Male</td>\n",
       "      <td>10 years</td>\n",
       "      <td>Yorkshire Terrier Mix</td>\n",
       "      <td>Brown/Black</td>\n",
       "    </tr>\n",
       "  </tbody>\n",
       "</table>\n",
       "</div>"
      ],
      "text/plain": [
       "   Animal ID      Name                DateTime               MonthYear  \\\n",
       "6    A814515   Quentin  05/06/2020 07:59:00 AM  05/06/2020 07:59:00 AM   \n",
       "12   A803149    *Birch  08/31/2019 04:26:00 PM  08/31/2019 04:26:00 PM   \n",
       "13   A698049     Luigi  03/16/2015 02:50:00 PM  03/16/2015 02:50:00 PM   \n",
       "17   A765349  Einstein  06/08/2018 01:04:00 PM  06/08/2018 01:04:00 PM   \n",
       "18   A760697      Star  10/26/2017 03:22:00 PM  10/26/2017 03:22:00 PM   \n",
       "\n",
       "   Date of Birth Outcome Type Outcome Subtype Animal Type Sex upon Outcome  \\\n",
       "6     03/01/2018     Adoption          Foster         Dog    Neutered Male   \n",
       "12    08/08/2019     Transfer         Partner         Cat      Intact Male   \n",
       "13    06/05/2014     Transfer         Partner         Cat    Spayed Female   \n",
       "17    01/18/2009     Adoption          Foster         Dog    Neutered Male   \n",
       "18    10/23/2007     Transfer         Partner         Dog      Intact Male   \n",
       "\n",
       "   Age upon Outcome                                 Breed        Color  \n",
       "6           2 years  American Foxhound/Labrador Retriever  White/Brown  \n",
       "12          3 weeks                    Domestic Shorthair  Brown Tabby  \n",
       "13         9 months              Domestic Medium Hair Mix  Black/White  \n",
       "17          9 years               Chihuahua Shorthair Mix     Tricolor  \n",
       "18         10 years                 Yorkshire Terrier Mix  Brown/Black  "
      ]
     },
     "execution_count": 61,
     "metadata": {},
     "output_type": "execute_result"
    }
   ],
   "source": [
    "animals_outcomes_df.head()"
   ]
  },
  {
   "cell_type": "code",
   "execution_count": 62,
   "metadata": {},
   "outputs": [],
   "source": [
    "breeds = list(animals_outcomes_df.Breed)\n",
    "breeds = str(breeds)"
   ]
  },
  {
   "cell_type": "code",
   "execution_count": 63,
   "metadata": {},
   "outputs": [],
   "source": [
    "!pip install wordcloud --quiet"
   ]
  },
  {
   "cell_type": "code",
   "execution_count": 64,
   "metadata": {},
   "outputs": [
    {
     "data": {
      "image/png": "[encoded data removed]",
      "text/plain": [
       "<Figure size 720x720 with 1 Axes>"
      ]
     },
     "metadata": {
      "needs_background": "light"
     },
     "output_type": "display_data"
    }
   ],
   "source": [
    "from wordcloud import WordCloud\n",
    "import matplotlib.pyplot as plt\n",
    "def plot_cloud(wordcloud):\n",
    "    plt.figure(figsize=(10, 10))\n",
    "    plt.imshow(wordcloud)\n",
    "    plt.axis(\"off\");\n",
    "wordcloud = WordCloud(width = 500, height = 500, background_color='#44C0D2', colormap=\"ocean\",  random_state=10).generate(breeds)\n",
    "plot_cloud(wordcloud)"
   ]
  },
  {
   "cell_type": "markdown",
   "metadata": {},
   "source": [
    "> - **The above plot or image , as many of you may know it, is called a word cloud**\n",
    "\n",
    "*A word cloud is a simple yet powerful visual representation object for text processing, which shows the most frequent word with bigger and bolder letters, and with different colors. The smaller the the size of the word the lesser it’s important.*\n",
    "\n",
    "\n",
    "> - **Most frequent breeds are emphasized with bigger and bolder letters**"
   ]
  },
  {
   "cell_type": "markdown",
   "metadata": {},
   "source": [
    "## Asking and Answering Questions\n",
    "\n",
    "Let us the begin the real deal, asking questions and trying to answer them!!!\n",
    "\n"
   ]
  },
  {
   "cell_type": "markdown",
   "metadata": {},
   "source": [
    "#### Q1: Were there any sub reasons for which outcomes of animals was decided ??"
   ]
  },
  {
   "cell_type": "code",
   "execution_count": 67,
   "metadata": {},
   "outputs": [
    {
     "data": {
      "text/plain": [
       "array(['Adoption', 'Transfer', 'Euthanasia', 'Died', 'Return to Owner',\n",
       "       'Missing'], dtype=object)"
      ]
     },
     "execution_count": 67,
     "metadata": {},
     "output_type": "execute_result"
    }
   ],
   "source": [
    "animals_outcomes_df['Outcome Type'].unique() #checking outcomes type"
   ]
  },
  {
   "cell_type": "code",
   "execution_count": 68,
   "metadata": {},
   "outputs": [
    {
     "name": "stdout",
     "output_type": "stream",
     "text": [
      "Outcome Type     Outcome Subtype    \n",
      "Adoption         Foster                  9164\n",
      "                 Offsite                  335\n",
      "Died             At Vet                    38\n",
      "                 Enroute                    7\n",
      "                 In Foster                130\n",
      "                 In Kennel                146\n",
      "                 In Surgery                11\n",
      "Euthanasia       Aggressive               479\n",
      "                 At Vet                    55\n",
      "                 Behavior                 142\n",
      "                 Court/Investigation       29\n",
      "                 Medical                   70\n",
      "                 Rabies Risk              106\n",
      "                 Suffering                781\n",
      "Missing          In Foster                 18\n",
      "                 In Kennel                  7\n",
      "                 Possible Theft            15\n",
      "Return to Owner  At Vet                     1\n",
      "                 Customer S                 7\n",
      "                 Field                     33\n",
      "                 Foster                     2\n",
      "                 Prc                       10\n",
      "Transfer         Barn                       4\n",
      "                 Emer                       2\n",
      "                 Partner                16607\n",
      "                 SCRP                     225\n",
      "                 Snr                      206\n",
      "Name: Outcome Subtype, dtype: int64\n",
      "**************************************\n",
      "\n",
      "\n",
      " Total count of each outcome type:\n",
      "Outcome Type\n",
      "Adoption            9499\n",
      "Died                 332\n",
      "Euthanasia          1662\n",
      "Missing               40\n",
      "Return to Owner       53\n",
      "Transfer           17044\n",
      "Name: Outcome Type, dtype: int64\n"
     ]
    }
   ],
   "source": [
    "outcome_sub_df = animals_outcomes_df.groupby(by=['Outcome Type','Outcome Subtype'])\n",
    "outcome_sub_df = outcome_sub_df['Outcome Subtype'].count()\n",
    "print(outcome_sub_df)\n",
    "\n",
    "print('**************************************')\n",
    "print('\\n\\n','Total count of each outcome type:')\n",
    "outcome_type_df = animals_outcomes_df.groupby('Outcome Type')\n",
    "outcome_type_df = outcome_type_df['Outcome Type'].count()\n",
    "print(outcome_type_df)"
   ]
  },
  {
   "cell_type": "markdown",
   "metadata": {},
   "source": [
    "**ANSWER :**"
   ]
  },
  {
   "cell_type": "code",
   "execution_count": 69,
   "metadata": {},
   "outputs": [
    {
     "name": "stdout",
     "output_type": "stream",
     "text": [
      "Total animal count for Adoption was: 9499, for the reasons:['Offsite']\n",
      "Total animal count for Died was: 332, for the reasons:['Enroute', 'In Foster', 'In Kennel', 'In Surgery']\n",
      "Total animal count for Transfer was: 17044, for the reasons:['Emer', 'Partner', 'SCRP', 'Snr']\n",
      "Total animal count for Return to Owner was: 53, for the reasons:['Customer S', 'Field', 'Foster', 'Prc']\n",
      "Total animal count for Missing was: 40, for the reasons:['In Kennel', 'Possible Theft']\n",
      "Total animal count for Euthanasia was: 1662, for the reasons:['At Vet', 'Behavior', 'Court/Investigation', 'Medical', 'Rabies Risk', 'Suffering']\n"
     ]
    }
   ],
   "source": [
    "outcome_list = outcome_sub_df.index[:][0]\n",
    "\n",
    "outcome_list = list(map(lambda x:x[:][0],outcome_sub_df.index ))\n",
    "\n",
    "outcome_list = list(set(outcome_list))\n",
    "\n",
    "for i in outcome_list:\n",
    "    a = outcome_sub_df[i].sum()\n",
    "    b = outcome_sub_df[i][1:]\n",
    "    \n",
    "    print('Total animal count for {} was: {}, for the reasons:{}'.format(i,a,list(b.index)))"
   ]
  },
  {
   "cell_type": "markdown",
   "metadata": {},
   "source": [
    "#### Q2:  Did  all animals were neutered or spayed after they were released from shelter , if not then what were the reason(s) for the same ??\n",
    "\n",
    "*Both terms(spay and neuter) refer to the surgical sterilization of an animal, but sometimes neuter is used for both genders*\n",
    "\n",
    "*By spaying or neutering your pet, you’ll help control the pet homelessness crisis, which results in millions of healthy dogs and cats being euthanized in certain countries each year, simply because there aren’t enough homes to go around. There are also medical and behavioral benefits to spaying (female pets) and neutering (male pets) your animals*\n",
    "\n",
    "https://www.aspca.org/pet-care/general-pet-care/spayneuter-your-pet"
   ]
  },
  {
   "cell_type": "code",
   "execution_count": 70,
   "metadata": {},
   "outputs": [
    {
     "data": {
      "text/plain": [
       "Sex upon Outcome\n",
       "Intact Female     4321\n",
       "Intact Male       3972\n",
       "Neutered Male    10444\n",
       "Spayed Female     9666\n",
       "Unknown            227\n",
       "Name: Sex upon Outcome, dtype: int64"
      ]
     },
     "execution_count": 70,
     "metadata": {},
     "output_type": "execute_result"
    }
   ],
   "source": [
    "animals_outcomes_df.groupby('Sex upon Outcome')['Sex upon Outcome'].count()"
   ]
  },
  {
   "cell_type": "code",
   "execution_count": 71,
   "metadata": {},
   "outputs": [],
   "source": [
    "#reasons for which female animals were not spayed \n",
    "\n",
    "intact_female_df = animals_outcomes_df[animals_outcomes_df['Sex upon Outcome'] == 'Intact Female'  ]\n",
    "intact_female_df = intact_female_df.groupby(by=['Outcome Type','Outcome Subtype' ]).count()\n",
    "intact_female_df = intact_female_df['Sex upon Outcome']\n",
    "#intact_female_df"
   ]
  },
  {
   "cell_type": "code",
   "execution_count": 72,
   "metadata": {},
   "outputs": [],
   "source": [
    "# for i,j in intact_female_df.items():\n",
    "#     print(i)\n",
    "#     print(j)"
   ]
  },
  {
   "cell_type": "markdown",
   "metadata": {},
   "source": [
    "**ANSWER :**"
   ]
  },
  {
   "cell_type": "code",
   "execution_count": 73,
   "metadata": {},
   "outputs": [
    {
     "data": {
      "image/png": "[encoded data removed]",
      "text/plain": [
       "<Figure size 720x360 with 1 Axes>"
      ]
     },
     "metadata": {
      "needs_background": "light"
     },
     "output_type": "display_data"
    }
   ],
   "source": [
    "intact_female_df['Transfer']['Partner'] = intact_female_df['Transfer']['Partner']//100 #we have scaled this type to 'Partner per 100', as plotting graph directly will hide all types\n",
    "\n",
    "plt.xticks(rotation=75)\n",
    "for i,j in intact_female_df.items():\n",
    "    plt.bar(i[1],j)\n",
    "    \n",
    "plt.xlabel('Reason behind certain outcome types of female animals')\n",
    "plt.ylabel('Animal Count')\n",
    "plt.legend(animals_outcomes_df['Outcome Type'].unique());"
   ]
  },
  {
   "cell_type": "code",
   "execution_count": 74,
   "metadata": {},
   "outputs": [],
   "source": [
    "#reasons for which male animals were not neutered\n",
    "\n",
    "intact_male_df = animals_outcomes_df[animals_outcomes_df['Sex upon Outcome'] == 'Intact Male']\n",
    "intact_male_df = intact_male_df.groupby(by=['Outcome Type','Outcome Subtype' ]).count()\n",
    "intact_male_df = intact_male_df['Sex upon Outcome']\n",
    "#intact_male_df"
   ]
  },
  {
   "cell_type": "code",
   "execution_count": 75,
   "metadata": {},
   "outputs": [
    {
     "data": {
      "image/png": "[encoded data removed]",
      "text/plain": [
       "<Figure size 720x360 with 1 Axes>"
      ]
     },
     "metadata": {
      "needs_background": "light"
     },
     "output_type": "display_data"
    }
   ],
   "source": [
    "intact_male_df['Transfer']['Partner'] = intact_male_df['Transfer']['Partner']//100 #we have scaled this type to 'Partner per 100', as plotting graph directly will hide all types\n",
    "\n",
    "plt.xticks(rotation=75)\n",
    "for i,j in intact_male_df.items():\n",
    "    plt.bar(i[1],j)\n",
    "    \n",
    "plt.xlabel('Reason behind certain outcome types of male animals')\n",
    "plt.ylabel('Animal Count')\n",
    "plt.legend(animals_outcomes_df['Outcome Type'].unique());"
   ]
  },
  {
   "cell_type": "markdown",
   "metadata": {},
   "source": [
    "#### Q3: How many 6 years old or more animals are being released after receiving treatement, aid by the shelter ??"
   ]
  },
  {
   "cell_type": "code",
   "execution_count": 76,
   "metadata": {},
   "outputs": [
    {
     "data": {
      "text/html": [
       "<div>\n",
       "<style scoped>\n",
       "    .dataframe tbody tr th:only-of-type {\n",
       "        vertical-align: middle;\n",
       "    }\n",
       "\n",
       "    .dataframe tbody tr th {\n",
       "        vertical-align: top;\n",
       "    }\n",
       "\n",
       "    .dataframe thead th {\n",
       "        text-align: right;\n",
       "    }\n",
       "</style>\n",
       "<table border=\"1\" class=\"dataframe\">\n",
       "  <thead>\n",
       "    <tr style=\"text-align: right;\">\n",
       "      <th></th>\n",
       "      <th>Animal ID</th>\n",
       "      <th>Name</th>\n",
       "      <th>DateTime</th>\n",
       "      <th>MonthYear</th>\n",
       "      <th>Date of Birth</th>\n",
       "      <th>Outcome Type</th>\n",
       "      <th>Outcome Subtype</th>\n",
       "      <th>Animal Type</th>\n",
       "      <th>Sex upon Outcome</th>\n",
       "      <th>Age upon Outcome</th>\n",
       "      <th>Breed</th>\n",
       "      <th>Color</th>\n",
       "    </tr>\n",
       "  </thead>\n",
       "  <tbody>\n",
       "    <tr>\n",
       "      <th>6</th>\n",
       "      <td>A814515</td>\n",
       "      <td>Quentin</td>\n",
       "      <td>05/06/2020 07:59:00 AM</td>\n",
       "      <td>05/06/2020 07:59:00 AM</td>\n",
       "      <td>03/01/2018</td>\n",
       "      <td>Adoption</td>\n",
       "      <td>Foster</td>\n",
       "      <td>Dog</td>\n",
       "      <td>Neutered Male</td>\n",
       "      <td>2 years</td>\n",
       "      <td>American Foxhound/Labrador Retriever</td>\n",
       "      <td>White/Brown</td>\n",
       "    </tr>\n",
       "    <tr>\n",
       "      <th>12</th>\n",
       "      <td>A803149</td>\n",
       "      <td>*Birch</td>\n",
       "      <td>08/31/2019 04:26:00 PM</td>\n",
       "      <td>08/31/2019 04:26:00 PM</td>\n",
       "      <td>08/08/2019</td>\n",
       "      <td>Transfer</td>\n",
       "      <td>Partner</td>\n",
       "      <td>Cat</td>\n",
       "      <td>Intact Male</td>\n",
       "      <td>3 weeks</td>\n",
       "      <td>Domestic Shorthair</td>\n",
       "      <td>Brown Tabby</td>\n",
       "    </tr>\n",
       "    <tr>\n",
       "      <th>13</th>\n",
       "      <td>A698049</td>\n",
       "      <td>Luigi</td>\n",
       "      <td>03/16/2015 02:50:00 PM</td>\n",
       "      <td>03/16/2015 02:50:00 PM</td>\n",
       "      <td>06/05/2014</td>\n",
       "      <td>Transfer</td>\n",
       "      <td>Partner</td>\n",
       "      <td>Cat</td>\n",
       "      <td>Spayed Female</td>\n",
       "      <td>9 months</td>\n",
       "      <td>Domestic Medium Hair Mix</td>\n",
       "      <td>Black/White</td>\n",
       "    </tr>\n",
       "    <tr>\n",
       "      <th>17</th>\n",
       "      <td>A765349</td>\n",
       "      <td>Einstein</td>\n",
       "      <td>06/08/2018 01:04:00 PM</td>\n",
       "      <td>06/08/2018 01:04:00 PM</td>\n",
       "      <td>01/18/2009</td>\n",
       "      <td>Adoption</td>\n",
       "      <td>Foster</td>\n",
       "      <td>Dog</td>\n",
       "      <td>Neutered Male</td>\n",
       "      <td>9 years</td>\n",
       "      <td>Chihuahua Shorthair Mix</td>\n",
       "      <td>Tricolor</td>\n",
       "    </tr>\n",
       "    <tr>\n",
       "      <th>18</th>\n",
       "      <td>A760697</td>\n",
       "      <td>Star</td>\n",
       "      <td>10/26/2017 03:22:00 PM</td>\n",
       "      <td>10/26/2017 03:22:00 PM</td>\n",
       "      <td>10/23/2007</td>\n",
       "      <td>Transfer</td>\n",
       "      <td>Partner</td>\n",
       "      <td>Dog</td>\n",
       "      <td>Intact Male</td>\n",
       "      <td>10 years</td>\n",
       "      <td>Yorkshire Terrier Mix</td>\n",
       "      <td>Brown/Black</td>\n",
       "    </tr>\n",
       "  </tbody>\n",
       "</table>\n",
       "</div>"
      ],
      "text/plain": [
       "   Animal ID      Name                DateTime               MonthYear  \\\n",
       "6    A814515   Quentin  05/06/2020 07:59:00 AM  05/06/2020 07:59:00 AM   \n",
       "12   A803149    *Birch  08/31/2019 04:26:00 PM  08/31/2019 04:26:00 PM   \n",
       "13   A698049     Luigi  03/16/2015 02:50:00 PM  03/16/2015 02:50:00 PM   \n",
       "17   A765349  Einstein  06/08/2018 01:04:00 PM  06/08/2018 01:04:00 PM   \n",
       "18   A760697      Star  10/26/2017 03:22:00 PM  10/26/2017 03:22:00 PM   \n",
       "\n",
       "   Date of Birth Outcome Type Outcome Subtype Animal Type Sex upon Outcome  \\\n",
       "6     03/01/2018     Adoption          Foster         Dog    Neutered Male   \n",
       "12    08/08/2019     Transfer         Partner         Cat      Intact Male   \n",
       "13    06/05/2014     Transfer         Partner         Cat    Spayed Female   \n",
       "17    01/18/2009     Adoption          Foster         Dog    Neutered Male   \n",
       "18    10/23/2007     Transfer         Partner         Dog      Intact Male   \n",
       "\n",
       "   Age upon Outcome                                 Breed        Color  \n",
       "6           2 years  American Foxhound/Labrador Retriever  White/Brown  \n",
       "12          3 weeks                    Domestic Shorthair  Brown Tabby  \n",
       "13         9 months              Domestic Medium Hair Mix  Black/White  \n",
       "17          9 years               Chihuahua Shorthair Mix     Tricolor  \n",
       "18         10 years                 Yorkshire Terrier Mix  Brown/Black  "
      ]
     },
     "execution_count": 76,
     "metadata": {},
     "output_type": "execute_result"
    }
   ],
   "source": [
    "animals_outcomes_df.head()"
   ]
  },
  {
   "cell_type": "code",
   "execution_count": 77,
   "metadata": {},
   "outputs": [],
   "source": [
    "animals_outcomes_df['DOBdate'] = pd.to_datetime(animals_outcomes_df['Date of Birth'])\n",
    "animals_outcomes_df['Shelterdate'] = pd.to_datetime(animals_outcomes_df.DateTime)\n",
    "\n",
    "animals_outcomes_df['DOByear'] = pd.DatetimeIndex(animals_outcomes_df.DOBdate).year\n",
    "animals_outcomes_df['Shelteryear'] = pd.DatetimeIndex(animals_outcomes_df.Shelterdate).year\n",
    "animals_outcomes_df['Sheltermonth'] = pd.DatetimeIndex(animals_outcomes_df.Shelterdate).month\n",
    "\n",
    "animals_outcomes_df['Current Age in years'] = animals_outcomes_df['Shelteryear'] - animals_outcomes_df['DOByear'] "
   ]
  },
  {
   "cell_type": "code",
   "execution_count": 78,
   "metadata": {
    "scrolled": true
   },
   "outputs": [
    {
     "data": {
      "text/html": [
       "<div>\n",
       "<style scoped>\n",
       "    .dataframe tbody tr th:only-of-type {\n",
       "        vertical-align: middle;\n",
       "    }\n",
       "\n",
       "    .dataframe tbody tr th {\n",
       "        vertical-align: top;\n",
       "    }\n",
       "\n",
       "    .dataframe thead th {\n",
       "        text-align: right;\n",
       "    }\n",
       "</style>\n",
       "<table border=\"1\" class=\"dataframe\">\n",
       "  <thead>\n",
       "    <tr style=\"text-align: right;\">\n",
       "      <th></th>\n",
       "      <th>Animal ID</th>\n",
       "      <th>Name</th>\n",
       "      <th>DateTime</th>\n",
       "      <th>MonthYear</th>\n",
       "      <th>Date of Birth</th>\n",
       "      <th>Outcome Type</th>\n",
       "      <th>Outcome Subtype</th>\n",
       "      <th>Animal Type</th>\n",
       "      <th>Sex upon Outcome</th>\n",
       "      <th>Age upon Outcome</th>\n",
       "      <th>Breed</th>\n",
       "      <th>Color</th>\n",
       "      <th>DOBdate</th>\n",
       "      <th>Shelterdate</th>\n",
       "      <th>DOByear</th>\n",
       "      <th>Shelteryear</th>\n",
       "      <th>Sheltermonth</th>\n",
       "      <th>Current Age in years</th>\n",
       "    </tr>\n",
       "  </thead>\n",
       "  <tbody>\n",
       "    <tr>\n",
       "      <th>6</th>\n",
       "      <td>A814515</td>\n",
       "      <td>Quentin</td>\n",
       "      <td>05/06/2020 07:59:00 AM</td>\n",
       "      <td>05/06/2020 07:59:00 AM</td>\n",
       "      <td>03/01/2018</td>\n",
       "      <td>Adoption</td>\n",
       "      <td>Foster</td>\n",
       "      <td>Dog</td>\n",
       "      <td>Neutered Male</td>\n",
       "      <td>2 years</td>\n",
       "      <td>American Foxhound/Labrador Retriever</td>\n",
       "      <td>White/Brown</td>\n",
       "      <td>2018-03-01</td>\n",
       "      <td>2020-05-06 07:59:00</td>\n",
       "      <td>2018</td>\n",
       "      <td>2020</td>\n",
       "      <td>5</td>\n",
       "      <td>2</td>\n",
       "    </tr>\n",
       "    <tr>\n",
       "      <th>12</th>\n",
       "      <td>A803149</td>\n",
       "      <td>*Birch</td>\n",
       "      <td>08/31/2019 04:26:00 PM</td>\n",
       "      <td>08/31/2019 04:26:00 PM</td>\n",
       "      <td>08/08/2019</td>\n",
       "      <td>Transfer</td>\n",
       "      <td>Partner</td>\n",
       "      <td>Cat</td>\n",
       "      <td>Intact Male</td>\n",
       "      <td>3 weeks</td>\n",
       "      <td>Domestic Shorthair</td>\n",
       "      <td>Brown Tabby</td>\n",
       "      <td>2019-08-08</td>\n",
       "      <td>2019-08-31 16:26:00</td>\n",
       "      <td>2019</td>\n",
       "      <td>2019</td>\n",
       "      <td>8</td>\n",
       "      <td>0</td>\n",
       "    </tr>\n",
       "    <tr>\n",
       "      <th>13</th>\n",
       "      <td>A698049</td>\n",
       "      <td>Luigi</td>\n",
       "      <td>03/16/2015 02:50:00 PM</td>\n",
       "      <td>03/16/2015 02:50:00 PM</td>\n",
       "      <td>06/05/2014</td>\n",
       "      <td>Transfer</td>\n",
       "      <td>Partner</td>\n",
       "      <td>Cat</td>\n",
       "      <td>Spayed Female</td>\n",
       "      <td>9 months</td>\n",
       "      <td>Domestic Medium Hair Mix</td>\n",
       "      <td>Black/White</td>\n",
       "      <td>2014-06-05</td>\n",
       "      <td>2015-03-16 14:50:00</td>\n",
       "      <td>2014</td>\n",
       "      <td>2015</td>\n",
       "      <td>3</td>\n",
       "      <td>1</td>\n",
       "    </tr>\n",
       "    <tr>\n",
       "      <th>17</th>\n",
       "      <td>A765349</td>\n",
       "      <td>Einstein</td>\n",
       "      <td>06/08/2018 01:04:00 PM</td>\n",
       "      <td>06/08/2018 01:04:00 PM</td>\n",
       "      <td>01/18/2009</td>\n",
       "      <td>Adoption</td>\n",
       "      <td>Foster</td>\n",
       "      <td>Dog</td>\n",
       "      <td>Neutered Male</td>\n",
       "      <td>9 years</td>\n",
       "      <td>Chihuahua Shorthair Mix</td>\n",
       "      <td>Tricolor</td>\n",
       "      <td>2009-01-18</td>\n",
       "      <td>2018-06-08 13:04:00</td>\n",
       "      <td>2009</td>\n",
       "      <td>2018</td>\n",
       "      <td>6</td>\n",
       "      <td>9</td>\n",
       "    </tr>\n",
       "    <tr>\n",
       "      <th>18</th>\n",
       "      <td>A760697</td>\n",
       "      <td>Star</td>\n",
       "      <td>10/26/2017 03:22:00 PM</td>\n",
       "      <td>10/26/2017 03:22:00 PM</td>\n",
       "      <td>10/23/2007</td>\n",
       "      <td>Transfer</td>\n",
       "      <td>Partner</td>\n",
       "      <td>Dog</td>\n",
       "      <td>Intact Male</td>\n",
       "      <td>10 years</td>\n",
       "      <td>Yorkshire Terrier Mix</td>\n",
       "      <td>Brown/Black</td>\n",
       "      <td>2007-10-23</td>\n",
       "      <td>2017-10-26 15:22:00</td>\n",
       "      <td>2007</td>\n",
       "      <td>2017</td>\n",
       "      <td>10</td>\n",
       "      <td>10</td>\n",
       "    </tr>\n",
       "  </tbody>\n",
       "</table>\n",
       "</div>"
      ],
      "text/plain": [
       "   Animal ID      Name                DateTime               MonthYear  \\\n",
       "6    A814515   Quentin  05/06/2020 07:59:00 AM  05/06/2020 07:59:00 AM   \n",
       "12   A803149    *Birch  08/31/2019 04:26:00 PM  08/31/2019 04:26:00 PM   \n",
       "13   A698049     Luigi  03/16/2015 02:50:00 PM  03/16/2015 02:50:00 PM   \n",
       "17   A765349  Einstein  06/08/2018 01:04:00 PM  06/08/2018 01:04:00 PM   \n",
       "18   A760697      Star  10/26/2017 03:22:00 PM  10/26/2017 03:22:00 PM   \n",
       "\n",
       "   Date of Birth Outcome Type Outcome Subtype Animal Type Sex upon Outcome  \\\n",
       "6     03/01/2018     Adoption          Foster         Dog    Neutered Male   \n",
       "12    08/08/2019     Transfer         Partner         Cat      Intact Male   \n",
       "13    06/05/2014     Transfer         Partner         Cat    Spayed Female   \n",
       "17    01/18/2009     Adoption          Foster         Dog    Neutered Male   \n",
       "18    10/23/2007     Transfer         Partner         Dog      Intact Male   \n",
       "\n",
       "   Age upon Outcome                                 Breed        Color  \\\n",
       "6           2 years  American Foxhound/Labrador Retriever  White/Brown   \n",
       "12          3 weeks                    Domestic Shorthair  Brown Tabby   \n",
       "13         9 months              Domestic Medium Hair Mix  Black/White   \n",
       "17          9 years               Chihuahua Shorthair Mix     Tricolor   \n",
       "18         10 years                 Yorkshire Terrier Mix  Brown/Black   \n",
       "\n",
       "      DOBdate         Shelterdate  DOByear  Shelteryear  Sheltermonth  \\\n",
       "6  2018-03-01 2020-05-06 07:59:00     2018         2020             5   \n",
       "12 2019-08-08 2019-08-31 16:26:00     2019         2019             8   \n",
       "13 2014-06-05 2015-03-16 14:50:00     2014         2015             3   \n",
       "17 2009-01-18 2018-06-08 13:04:00     2009         2018             6   \n",
       "18 2007-10-23 2017-10-26 15:22:00     2007         2017            10   \n",
       "\n",
       "    Current Age in years  \n",
       "6                      2  \n",
       "12                     0  \n",
       "13                     1  \n",
       "17                     9  \n",
       "18                    10  "
      ]
     },
     "execution_count": 78,
     "metadata": {},
     "output_type": "execute_result"
    }
   ],
   "source": [
    "animals_outcomes_df.head()"
   ]
  },
  {
   "cell_type": "code",
   "execution_count": 79,
   "metadata": {},
   "outputs": [],
   "source": [
    "ages_df = animals_outcomes_df[animals_outcomes_df['Current Age in years'] >= 6]\n",
    "ages_6_df = ages_df.groupby(by=['Animal Type' ])\n",
    "ages_6_df = ages_6_df.count()['Name']\n",
    "\n"
   ]
  },
  {
   "cell_type": "markdown",
   "metadata": {},
   "source": [
    "**ANSWER :**"
   ]
  },
  {
   "cell_type": "code",
   "execution_count": 80,
   "metadata": {},
   "outputs": [
    {
     "name": "stdout",
     "output_type": "stream",
     "text": [
      "Birds older than 6 years being released by shelter : 7\n",
      "Cats older than 6 years being released by shelter : 1289\n",
      "Dogs older than 6 years being released by shelter : 3059\n",
      "Others older than 6 years being released by shelter : 7\n"
     ]
    }
   ],
   "source": [
    "ages_list = ages_6_df.values\n",
    "ages_names = ages_6_df.index\n",
    "\n",
    "for i,j in zip(ages_list, ages_names):\n",
    "    print('{}s older than 6 years being released by shelter : {}'.format(j,i))"
   ]
  },
  {
   "cell_type": "markdown",
   "metadata": {},
   "source": [
    "#### Q4:  Which is the most busy month at the shelter while realeasing treated animals in year 2019??"
   ]
  },
  {
   "cell_type": "code",
   "execution_count": 81,
   "metadata": {},
   "outputs": [
    {
     "data": {
      "text/plain": [
       "[2014, 2015, 2016, 2017, 2018, 2019, 2020]"
      ]
     },
     "execution_count": 81,
     "metadata": {},
     "output_type": "execute_result"
    }
   ],
   "source": [
    "outtake_year_list = list(np.sort(animals_outcomes_df['Shelteryear'].unique()))\n",
    "outtake_year_list.pop(0)\n",
    "outtake_year_list.pop(-1)\n",
    "outtake_year_list"
   ]
  },
  {
   "cell_type": "code",
   "execution_count": 82,
   "metadata": {},
   "outputs": [
    {
     "data": {
      "image/png": "[encoded data removed]",
      "text/plain": [
       "<Figure size 720x360 with 2 Axes>"
      ]
     },
     "metadata": {
      "needs_background": "light"
     },
     "output_type": "display_data"
    }
   ],
   "source": [
    "yearly_df = pd.DataFrame()\n",
    "\n",
    "df_dict = { 'year'  : [],\n",
    "            'month' : [],\n",
    "           'values' : []\n",
    "            }\n",
    "\n",
    "for i in outtake_year_list:\n",
    "    temp_year_df  =  animals_outcomes_df[animals_outcomes_df['Shelteryear'] == i]\n",
    "    temp_month_df = temp_year_df.groupby('Sheltermonth').count()\n",
    "\n",
    "    for p,q in zip((temp_month_df['Name'].index), (temp_month_df['Name'].values)):\n",
    "        p = calendar.month_abbr[p]\n",
    "        \n",
    "        df_dict['year'].append(i)\n",
    "        df_dict['month'].append(p)\n",
    "        df_dict['values'].append(q)\n",
    "\n",
    "        yearly_df = pd.DataFrame(data=df_dict, )\n",
    "\n",
    "yearly_df = yearly_df.pivot('month', 'year', 'values') \n",
    "\n",
    "sns.heatmap(yearly_df,cmap='Greens');"
   ]
  },
  {
   "cell_type": "markdown",
   "metadata": {},
   "source": [
    "**ANSWER : June is the most busy month of 2019!**"
   ]
  },
  {
   "cell_type": "markdown",
   "metadata": {},
   "source": [
    "#### Q5: What is number of animals adopted who were stray ??"
   ]
  },
  {
   "cell_type": "code",
   "execution_count": 83,
   "metadata": {},
   "outputs": [],
   "source": [
    "#animals_intakes_df.head()"
   ]
  },
  {
   "cell_type": "code",
   "execution_count": 84,
   "metadata": {},
   "outputs": [],
   "source": [
    "#animals_outcomes_df.head()"
   ]
  },
  {
   "cell_type": "code",
   "execution_count": 85,
   "metadata": {},
   "outputs": [
    {
     "data": {
      "text/html": [
       "<div>\n",
       "<style scoped>\n",
       "    .dataframe tbody tr th:only-of-type {\n",
       "        vertical-align: middle;\n",
       "    }\n",
       "\n",
       "    .dataframe tbody tr th {\n",
       "        vertical-align: top;\n",
       "    }\n",
       "\n",
       "    .dataframe thead th {\n",
       "        text-align: right;\n",
       "    }\n",
       "</style>\n",
       "<table border=\"1\" class=\"dataframe\">\n",
       "  <thead>\n",
       "    <tr style=\"text-align: right;\">\n",
       "      <th></th>\n",
       "      <th>Outcome Type</th>\n",
       "      <th>Intake Type</th>\n",
       "    </tr>\n",
       "  </thead>\n",
       "  <tbody>\n",
       "    <tr>\n",
       "      <th>0</th>\n",
       "      <td>Adoption</td>\n",
       "      <td>Owner Surrender</td>\n",
       "    </tr>\n",
       "    <tr>\n",
       "      <th>1</th>\n",
       "      <td>Transfer</td>\n",
       "      <td>Stray</td>\n",
       "    </tr>\n",
       "    <tr>\n",
       "      <th>2</th>\n",
       "      <td>Transfer</td>\n",
       "      <td>Public Assist</td>\n",
       "    </tr>\n",
       "    <tr>\n",
       "      <th>3</th>\n",
       "      <td>Transfer</td>\n",
       "      <td>Owner Surrender</td>\n",
       "    </tr>\n",
       "    <tr>\n",
       "      <th>4</th>\n",
       "      <td>Adoption</td>\n",
       "      <td>Owner Surrender</td>\n",
       "    </tr>\n",
       "    <tr>\n",
       "      <th>...</th>\n",
       "      <td>...</td>\n",
       "      <td>...</td>\n",
       "    </tr>\n",
       "    <tr>\n",
       "      <th>33749</th>\n",
       "      <td>Transfer</td>\n",
       "      <td>Stray</td>\n",
       "    </tr>\n",
       "    <tr>\n",
       "      <th>33750</th>\n",
       "      <td>Adoption</td>\n",
       "      <td>Abandoned</td>\n",
       "    </tr>\n",
       "    <tr>\n",
       "      <th>33751</th>\n",
       "      <td>Adoption</td>\n",
       "      <td>Abandoned</td>\n",
       "    </tr>\n",
       "    <tr>\n",
       "      <th>33752</th>\n",
       "      <td>Adoption</td>\n",
       "      <td>Owner Surrender</td>\n",
       "    </tr>\n",
       "    <tr>\n",
       "      <th>33753</th>\n",
       "      <td>Adoption</td>\n",
       "      <td>Abandoned</td>\n",
       "    </tr>\n",
       "  </tbody>\n",
       "</table>\n",
       "<p>33754 rows × 2 columns</p>\n",
       "</div>"
      ],
      "text/plain": [
       "      Outcome Type      Intake Type\n",
       "0         Adoption  Owner Surrender\n",
       "1         Transfer            Stray\n",
       "2         Transfer    Public Assist\n",
       "3         Transfer  Owner Surrender\n",
       "4         Adoption  Owner Surrender\n",
       "...            ...              ...\n",
       "33749     Transfer            Stray\n",
       "33750     Adoption        Abandoned\n",
       "33751     Adoption        Abandoned\n",
       "33752     Adoption  Owner Surrender\n",
       "33753     Adoption        Abandoned\n",
       "\n",
       "[33754 rows x 2 columns]"
      ]
     },
     "execution_count": 85,
     "metadata": {},
     "output_type": "execute_result"
    }
   ],
   "source": [
    "animals_df = animals_outcomes_df.merge(animals_intakes_df, on='Animal ID')\n",
    "animals_df = animals_df[['Outcome Type','Intake Type']]\n",
    "animals_df"
   ]
  },
  {
   "cell_type": "code",
   "execution_count": 86,
   "metadata": {},
   "outputs": [
    {
     "data": {
      "text/html": [
       "<div>\n",
       "<style scoped>\n",
       "    .dataframe tbody tr th:only-of-type {\n",
       "        vertical-align: middle;\n",
       "    }\n",
       "\n",
       "    .dataframe tbody tr th {\n",
       "        vertical-align: top;\n",
       "    }\n",
       "\n",
       "    .dataframe thead th {\n",
       "        text-align: right;\n",
       "    }\n",
       "</style>\n",
       "<table border=\"1\" class=\"dataframe\">\n",
       "  <thead>\n",
       "    <tr style=\"text-align: right;\">\n",
       "      <th></th>\n",
       "      <th>Outcome Type</th>\n",
       "      <th>Intake Type</th>\n",
       "    </tr>\n",
       "  </thead>\n",
       "  <tbody>\n",
       "    <tr>\n",
       "      <th>5</th>\n",
       "      <td>Adoption</td>\n",
       "      <td>Stray</td>\n",
       "    </tr>\n",
       "    <tr>\n",
       "      <th>7</th>\n",
       "      <td>Adoption</td>\n",
       "      <td>Stray</td>\n",
       "    </tr>\n",
       "    <tr>\n",
       "      <th>9</th>\n",
       "      <td>Adoption</td>\n",
       "      <td>Stray</td>\n",
       "    </tr>\n",
       "    <tr>\n",
       "      <th>15</th>\n",
       "      <td>Adoption</td>\n",
       "      <td>Stray</td>\n",
       "    </tr>\n",
       "    <tr>\n",
       "      <th>16</th>\n",
       "      <td>Adoption</td>\n",
       "      <td>Stray</td>\n",
       "    </tr>\n",
       "    <tr>\n",
       "      <th>...</th>\n",
       "      <td>...</td>\n",
       "      <td>...</td>\n",
       "    </tr>\n",
       "    <tr>\n",
       "      <th>33732</th>\n",
       "      <td>Adoption</td>\n",
       "      <td>Stray</td>\n",
       "    </tr>\n",
       "    <tr>\n",
       "      <th>33743</th>\n",
       "      <td>Adoption</td>\n",
       "      <td>Stray</td>\n",
       "    </tr>\n",
       "    <tr>\n",
       "      <th>33744</th>\n",
       "      <td>Adoption</td>\n",
       "      <td>Stray</td>\n",
       "    </tr>\n",
       "    <tr>\n",
       "      <th>33745</th>\n",
       "      <td>Adoption</td>\n",
       "      <td>Stray</td>\n",
       "    </tr>\n",
       "    <tr>\n",
       "      <th>33746</th>\n",
       "      <td>Adoption</td>\n",
       "      <td>Stray</td>\n",
       "    </tr>\n",
       "  </tbody>\n",
       "</table>\n",
       "<p>7695 rows × 2 columns</p>\n",
       "</div>"
      ],
      "text/plain": [
       "      Outcome Type Intake Type\n",
       "5         Adoption       Stray\n",
       "7         Adoption       Stray\n",
       "9         Adoption       Stray\n",
       "15        Adoption       Stray\n",
       "16        Adoption       Stray\n",
       "...            ...         ...\n",
       "33732     Adoption       Stray\n",
       "33743     Adoption       Stray\n",
       "33744     Adoption       Stray\n",
       "33745     Adoption       Stray\n",
       "33746     Adoption       Stray\n",
       "\n",
       "[7695 rows x 2 columns]"
      ]
     },
     "execution_count": 86,
     "metadata": {},
     "output_type": "execute_result"
    }
   ],
   "source": [
    "animals_stray_df =  animals_df[animals_df['Intake Type'] == 'Stray']\n",
    "animals_stray_adop_df = animals_stray_df[animals_stray_df['Outcome Type'] == 'Adoption']\n",
    "animals_stray_adop_df[['Outcome Type','Intake Type']]"
   ]
  },
  {
   "cell_type": "markdown",
   "metadata": {},
   "source": [
    "**ANSWER : In all, 7.5k+ animals that were adopted were strays.**"
   ]
  },
  {
   "cell_type": "markdown",
   "metadata": {},
   "source": [
    "#### Q6: What is most common color of animals being adopted  ??"
   ]
  },
  {
   "cell_type": "code",
   "execution_count": 87,
   "metadata": {},
   "outputs": [],
   "source": [
    "color_df = animals_outcomes_df.groupby('Color').count()['Name']\n",
    "color_dict = dict(color_df)\n",
    "common_color = max(color_dict, key=color_dict.get)\n",
    "\n"
   ]
  },
  {
   "cell_type": "markdown",
   "metadata": {},
   "source": [
    "**ANSWER :**"
   ]
  },
  {
   "cell_type": "code",
   "execution_count": 88,
   "metadata": {},
   "outputs": [
    {
     "name": "stdout",
     "output_type": "stream",
     "text": [
      "Most common color of animals being adopted : Black/White\n"
     ]
    }
   ],
   "source": [
    "print('Most common color of animals being adopted : {}'.format(common_color))"
   ]
  },
  {
   "cell_type": "code",
   "execution_count": 89,
   "metadata": {},
   "outputs": [
    {
     "data": {
      "text/plain": [
       "Color\n",
       "Black/White    3076\n",
       "Name: Name, dtype: int64"
      ]
     },
     "execution_count": 89,
     "metadata": {},
     "output_type": "execute_result"
    }
   ],
   "source": [
    "color_df[color_df.index == 'Black/White' ]"
   ]
  },
  {
   "cell_type": "markdown",
   "metadata": {},
   "source": [
    "## Inferences and Conclusion\n"
   ]
  },
  {
   "cell_type": "markdown",
   "metadata": {},
   "source": [
    "> - The austin animal shelter is doing thier best in helping the needed animals, they remained active even in the time when covid-19 hit in the year 2019.\n",
    "> - They also help animals finding thier new families and getting them adopted.\n",
    "> - In the year 2020 there were least cases of animals intakes.\n",
    "> - Most animals int the shelter are stray animals.\n",
    "> - Animals are getting spayed/neutered, which is a good thing.\n",
    "> -  Majority of animals around 50k+ that were taken in by the shelter were strays, after that approximately 20k animals were surrenderd by their owners.\n",
    "> - Most animals at the shelter are domestic animals like cats & dogs, some are livestocks and some exotic species like birds.\n",
    "> - Around the months July & July, animals are being taken in large numbers from year 2014 to 2019 and during the month of may for the year 2014 to 2019 ,the shelter is heavily taking animals let it be stray, abandonded, surrenderd."
   ]
  },
  {
   "cell_type": "markdown",
   "metadata": {},
   "source": [
    "## References and Future Work\n",
    "\n"
   ]
  },
  {
   "cell_type": "markdown",
   "metadata": {},
   "source": [
    "> \n",
    ">\n",
    "> - Find more useful insights using some more interesting metrics.\n",
    "> - Try to find the locality of animals where they were found in distressful conditions\n",
    "> - Means to fill in missing data for the catgorical datasets\n",
    "> - Explore more intutive graph plots\n",
    "\n",
    "> Links to resources I found useful:\n",
    "> - https://pandas.pydata.org/pandas-docs/stable/reference/api/pandas.DataFrame.html\n",
    "> - https://numpy.org/doc/stable/reference/index.html\n",
    "> - https://matplotlib.org/stable/api/pyplot_summary.html\n",
    "> - https://seaborn.pydata.org/api.html\n",
    "> - https://stackoverflow.com/questions/37625334/python-pandas-convert-month-int-to-month-name\n",
    "> - https://stackoverflow.com/questions/23577505/how-to-avoid-overlapping-of-labels-autopct-in-a-matplotlib-pie-chart\n",
    "> - https://www.analyticsvidhya.com/blog/2020/10/word-cloud-or-tag-cloud-in-python/ "
   ]
  },
  {
   "attachments": {},
   "cell_type": "markdown",
   "metadata": {},
   "source": [
    "**Here is a good boy for you!!**\n",
    "\n",
    "![image.png](https://media11.s-nbcnews.com/i/MSNBC/Components/Video/202003/DogAdoptionThumbnail.jpg)"
   ]
  }
 ],
 "metadata": {
  "kernelspec": {
   "display_name": "Python 3",
   "language": "python",
   "name": "python3"
  },
  "language_info": {
   "codemirror_mode": {
    "name": "ipython",
    "version": 3
   },
   "file_extension": ".py",
   "mimetype": "text/x-python",
   "name": "python",
   "nbconvert_exporter": "python",
   "pygments_lexer": "ipython3",
   "version": "3.8.10"
  }
 },
 "nbformat": 4,
 "nbformat_minor": 4
}
